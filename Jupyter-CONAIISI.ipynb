{
 "cells": [
  {
   "cell_type": "markdown",
   "metadata": {
    "slideshow": {
     "slide_type": "slide"
    }
   },
   "source": [
    "<center>\n",
    "<h1>\n",
    "Propuesta para un Framework Basado En Software Libre <br>\n",
    "para facilitar el Proceso de Enseñanza-Aprendizaje <br>\n",
    "en Materias de Ciencias Exactas en Carreras de Grado <br>\n",
    "</h1>\n",
    "</center>"
   ]
  },
  {
   "cell_type": "code",
   "execution_count": 3,
   "metadata": {
    "ExecuteTime": {
     "end_time": "2018-11-28T23:01:19.308607Z",
     "start_time": "2018-11-28T23:01:19.292608Z"
    },
    "init_cell": true,
    "slideshow": {
     "slide_type": "skip"
    }
   },
   "outputs": [],
   "source": [
    "from IPython.display import Javascript, display\n",
    "from ipywidgets.widgets import Layout\n",
    "from ipywidgets import widgets\n",
    "\n",
    "def run_all(ev):\n",
    "    display(Javascript('IPython.notebook.execute_cells_below()'))\n",
    "\n",
    "button = widgets.Button(description=\"Ejecutar Todas las Celdas\", layout=Layout(width='99%', height=\"50px\"))\n",
    "button.on_click(run_all)"
   ]
  },
  {
   "cell_type": "markdown",
   "metadata": {
    "slideshow": {
     "slide_type": "subslide"
    }
   },
   "source": [
    "### Ejecutar todas las celdas"
   ]
  },
  {
   "cell_type": "code",
   "execution_count": 4,
   "metadata": {
    "ExecuteTime": {
     "end_time": "2018-11-28T23:01:19.333606Z",
     "start_time": "2018-11-28T23:01:19.310607Z"
    },
    "init_cell": true,
    "slideshow": {
     "slide_type": "fragment"
    }
   },
   "outputs": [
    {
     "data": {
      "application/vnd.jupyter.widget-view+json": {
       "model_id": "0fc1c5a117914dd08fa9dceb4cb796f9",
       "version_major": 2,
       "version_minor": 0
      },
      "text/plain": [
       "Button(description='Ejecutar Todas las Celdas', layout=Layout(height='50px', width='99%'), style=ButtonStyle()…"
      ]
     },
     "metadata": {},
     "output_type": "display_data"
    }
   ],
   "source": [
    "display(button)"
   ]
  },
  {
   "cell_type": "markdown",
   "metadata": {
    "slideshow": {
     "slide_type": "slide"
    }
   },
   "source": [
    "## ¿Quién Soy? - Ezequiel Leonardo Castaño\n",
    "\n",
    "- Estudiante de ISI en UTN Facultad Regional Rosario\n",
    "- Programo en Python por más de 5 años como hobby\n",
    "\n",
    "**Me interesa**\n",
    "- Inteligencia Artificial\n",
    "- Data Visualization\n",
    "- Simulación y modelado\n",
    "- Aplicación de informática en Educación"
   ]
  },
  {
   "cell_type": "markdown",
   "metadata": {
    "slideshow": {
     "slide_type": "slide"
    }
   },
   "source": [
    "## Agenda\n",
    "\n",
    "- ¿Por qué?\n",
    "- ¿Dónde?\n",
    "- ¿Quién?\n",
    "- ¿Qué?\n",
    "- ¿Cómo?\n",
    "- ¿Para quién?\n",
    "- ¿Junto a qué?\n",
    "- ¿Antes de qué?"
   ]
  },
  {
   "cell_type": "markdown",
   "metadata": {
    "slideshow": {
     "slide_type": "slide"
    }
   },
   "source": [
    "## ¿Por qué y Dónde? - Software Privativo vs Software Libre"
   ]
  },
  {
   "cell_type": "markdown",
   "metadata": {
    "slideshow": {
     "slide_type": "fragment"
    }
   },
   "source": [
    "<center><img src=\"images/software.png\" width=60% height=60%></center>"
   ]
  },
  {
   "cell_type": "code",
   "execution_count": 5,
   "metadata": {
    "ExecuteTime": {
     "end_time": "2018-11-28T23:01:19.355606Z",
     "start_time": "2018-11-28T23:01:19.348606Z"
    },
    "slideshow": {
     "slide_type": "skip"
    }
   },
   "outputs": [],
   "source": [
    "from IPython.display import IFrame"
   ]
  },
  {
   "cell_type": "markdown",
   "metadata": {
    "slideshow": {
     "slide_type": "subslide"
    }
   },
   "source": [
    "# Jupyter Education Map"
   ]
  },
  {
   "cell_type": "code",
   "execution_count": 6,
   "metadata": {
    "ExecuteTime": {
     "end_time": "2018-11-28T23:01:19.379606Z",
     "start_time": "2018-11-28T23:01:19.358606Z"
    },
    "scrolled": false,
    "slideshow": {
     "slide_type": "fragment"
    }
   },
   "outputs": [
    {
     "data": {
      "text/html": [
       "\n",
       "        <iframe\n",
       "            width=\"100%\"\n",
       "            height=\"600\"\n",
       "            src=\"https://elc.github.io/jupyter-map\"\n",
       "            frameborder=\"0\"\n",
       "            allowfullscreen\n",
       "        ></iframe>\n",
       "        "
      ],
      "text/plain": [
       "<IPython.lib.display.IFrame at 0x258b6fd4da0>"
      ]
     },
     "execution_count": 6,
     "metadata": {},
     "output_type": "execute_result"
    }
   ],
   "source": [
    "IFrame('https://elc.github.io/jupyter-map', width=\"100%\", height=600)"
   ]
  },
  {
   "cell_type": "markdown",
   "metadata": {
    "slideshow": {
     "slide_type": "subslide"
    }
   },
   "source": [
    "## ¿Quién? - Universidades que ya lo implementan"
   ]
  },
  {
   "cell_type": "markdown",
   "metadata": {
    "slideshow": {
     "slide_type": "fragment"
    }
   },
   "source": [
    "- 85 Cursos ya lo implementan\n",
    "- 64 Tienen el material disponible de manera pública\n",
    "- Algunas de las universidades:\n",
    "    - University of Notre Dame\n",
    "    - University of Amsterdam\n",
    "    - National Institutes of Health (NIH)\n",
    "    - Universitat de Barcelona\n",
    "    - Stanford University\n",
    "    - California Institute of Technology"
   ]
  },
  {
   "cell_type": "markdown",
   "metadata": {
    "slideshow": {
     "slide_type": "slide"
    }
   },
   "source": [
    "## ¿Qué? - Pasos para implementar la propuesta"
   ]
  },
  {
   "cell_type": "markdown",
   "metadata": {
    "slideshow": {
     "slide_type": "fragment"
    }
   },
   "source": [
    "1. **Material de estudio**\n",
    "2. Experimentación en clase\n",
    "3. Trabajos prácticos\n",
    "4. Tareas y asignaciones"
   ]
  },
  {
   "cell_type": "markdown",
   "metadata": {
    "slideshow": {
     "slide_type": "subslide"
    }
   },
   "source": [
    "## Primer Paso - Material de estudio"
   ]
  },
  {
   "cell_type": "markdown",
   "metadata": {
    "slideshow": {
     "slide_type": "fragment"
    }
   },
   "source": [
    "- Dinámico\n",
    "- Editable\n",
    "- Entendible\n",
    "- Documentado"
   ]
  },
  {
   "cell_type": "markdown",
   "metadata": {
    "slideshow": {
     "slide_type": "slide"
    }
   },
   "source": [
    "## ¿Cómo? Tecnologías"
   ]
  },
  {
   "cell_type": "markdown",
   "metadata": {
    "ExecuteTime": {
     "end_time": "2018-11-28T13:21:13.261902Z",
     "start_time": "2018-11-28T13:21:13.255902Z"
    },
    "slideshow": {
     "slide_type": "fragment"
    }
   },
   "source": [
    "<center><img src=\"images/tecnologias.png\" width=50% height=50%></center>"
   ]
  },
  {
   "cell_type": "markdown",
   "metadata": {
    "slideshow": {
     "slide_type": "subslide"
    }
   },
   "source": [
    "### Demostración"
   ]
  },
  {
   "cell_type": "markdown",
   "metadata": {
    "slideshow": {
     "slide_type": "subslide"
    }
   },
   "source": [
    "### Corrección de Errores en Vivo"
   ]
  },
  {
   "cell_type": "markdown",
   "metadata": {
    "slideshow": {
     "slide_type": "fragment"
    }
   },
   "source": [
    "$$ \\int_1^\\infty \\!\\frac{1}{x^2}\\, dx=\\left[\\frac{1}{x}\\right]_1^\\infty=1 $$"
   ]
  },
  {
   "cell_type": "markdown",
   "metadata": {
    "slideshow": {
     "slide_type": "subslide"
    }
   },
   "source": [
    "### Graficar Funciones y ver como varían - Función Cuadrática"
   ]
  },
  {
   "cell_type": "code",
   "execution_count": 7,
   "metadata": {
    "ExecuteTime": {
     "end_time": "2018-11-28T23:01:20.282595Z",
     "start_time": "2018-11-28T23:01:19.382606Z"
    },
    "slideshow": {
     "slide_type": "skip"
    }
   },
   "outputs": [],
   "source": [
    "import matplotlib.pyplot as plt\n",
    "from ipywidgets import interact\n",
    "import numpy as np\n",
    "from matplotlib import animation, rc\n",
    "from matplotlib import style\n",
    "\n",
    "# Jupyter Specifics\n",
    "import matplotlib as mpl\n",
    "from IPython.display import HTML\n",
    "from ipywidgets.widgets import interact, IntSlider, FloatSlider, Layout"
   ]
  },
  {
   "cell_type": "code",
   "execution_count": 8,
   "metadata": {
    "ExecuteTime": {
     "end_time": "2018-11-28T23:01:20.295594Z",
     "start_time": "2018-11-28T23:01:20.284595Z"
    },
    "slideshow": {
     "slide_type": "skip"
    }
   },
   "outputs": [],
   "source": [
    "plt.style.use('bmh')\n",
    "\n",
    "%matplotlib inline\n",
    "\n",
    "mpl.rcParams['figure.figsize'] = (16.0, 6.0)\n",
    "rc('animation', html='html5')"
   ]
  },
  {
   "cell_type": "code",
   "execution_count": 9,
   "metadata": {
    "ExecuteTime": {
     "end_time": "2018-11-28T23:01:20.311594Z",
     "start_time": "2018-11-28T23:01:20.298594Z"
    },
    "slideshow": {
     "slide_type": "skip"
    }
   },
   "outputs": [],
   "source": [
    "def f1(a, b, c):\n",
    "    mpl.rcParams['figure.figsize'] = (16.0, 6.0)\n",
    "    x = np.linspace(-5,5,100)\n",
    "    y = a*x**2+b*x+c\n",
    "    plt.title(f\"Expresion: $ax^2 + bx + c$ \\n $a = {a}, b = {b}, c = {c}$\")\n",
    "    plt.ylim(-1,20)\n",
    "    plt.xlim(-5,5)\n",
    "    plt.grid(color='grey', linewidth=0.5)\n",
    "    plt.plot(x, y)"
   ]
  },
  {
   "cell_type": "code",
   "execution_count": 10,
   "metadata": {
    "ExecuteTime": {
     "end_time": "2018-11-28T23:01:21.127584Z",
     "start_time": "2018-11-28T23:01:20.315595Z"
    },
    "scrolled": false,
    "slideshow": {
     "slide_type": "fragment"
    }
   },
   "outputs": [
    {
     "data": {
      "application/vnd.jupyter.widget-view+json": {
       "model_id": "0bc55dab409745ff8d5c4bf9d08908dc",
       "version_major": 2,
       "version_minor": 0
      },
      "text/plain": [
       "interactive(children=(FloatSlider(value=1.0, description='a', layout=Layout(width='99%'), max=6.0, min=-5.0, s…"
      ]
     },
     "metadata": {},
     "output_type": "display_data"
    }
   ],
   "source": [
    "interact(f1, a=FloatSlider(min=-5, max=6, step=0.25, value=1, layout=Layout(width='99%')), b=FloatSlider(min=-5, max=6, step=1, value=0, layout=Layout(width='99%')), c=FloatSlider(min=-5, max=6, step=1, value=1, layout=Layout(width='99%')),);"
   ]
  },
  {
   "cell_type": "markdown",
   "metadata": {
    "slideshow": {
     "slide_type": "subslide"
    }
   },
   "source": [
    "### Graficar Funciones y ver como varían - Función Cuadrática Canónica"
   ]
  },
  {
   "cell_type": "code",
   "execution_count": 11,
   "metadata": {
    "ExecuteTime": {
     "end_time": "2018-11-28T23:01:21.137583Z",
     "start_time": "2018-11-28T23:01:21.130584Z"
    },
    "slideshow": {
     "slide_type": "skip"
    }
   },
   "outputs": [],
   "source": [
    "def f2(a, b, c):\n",
    "    mpl.rcParams['figure.figsize'] = (16.0, 6.0)\n",
    "    x = np.linspace(-5,5,1000)\n",
    "    y = (a*x+b)**2+c\n",
    "    plt.title(\"Expresion: $(ax+b)^2 + c$ \\n a = {}, b = {}, c = {}\".format(a,b,c))\n",
    "    plt.ylim(-1,20)\n",
    "    plt.xlim(-5,5)\n",
    "    plt.grid(color='grey', linewidth=0.5)\n",
    "    plt.plot(x, y)"
   ]
  },
  {
   "cell_type": "code",
   "execution_count": 12,
   "metadata": {
    "ExecuteTime": {
     "end_time": "2018-11-28T23:01:21.527578Z",
     "start_time": "2018-11-28T23:01:21.140584Z"
    },
    "slideshow": {
     "slide_type": "fragment"
    }
   },
   "outputs": [
    {
     "data": {
      "application/vnd.jupyter.widget-view+json": {
       "model_id": "91530f08c291430cb6a476e565c7f8ce",
       "version_major": 2,
       "version_minor": 0
      },
      "text/plain": [
       "interactive(children=(FloatSlider(value=1.0, description='a', layout=Layout(width='99%'), max=6.0, min=-5.0, s…"
      ]
     },
     "metadata": {},
     "output_type": "display_data"
    }
   ],
   "source": [
    "interact(f2, a=FloatSlider(min=-5, max=6, step=0.25, value=1, layout=Layout(width='99%')), b=FloatSlider(min=-5, max=6, step=1, value=0, layout=Layout(width='99%')), c=FloatSlider(min=-5, max=6, step=1, value=1, layout=Layout(width='99%')),);"
   ]
  },
  {
   "cell_type": "markdown",
   "metadata": {
    "slideshow": {
     "slide_type": "subslide"
    }
   },
   "source": [
    "### Integración Numérica y Graficación"
   ]
  },
  {
   "cell_type": "code",
   "execution_count": 13,
   "metadata": {
    "ExecuteTime": {
     "end_time": "2018-11-28T23:01:21.724577Z",
     "start_time": "2018-11-28T23:01:21.530579Z"
    },
    "slideshow": {
     "slide_type": "skip"
    }
   },
   "outputs": [],
   "source": [
    "from matplotlib.patches import Polygon\n",
    "import scipy.integrate as integrate\n",
    "\n",
    "\n",
    "def func(x):\n",
    "    return (x - 3) * (x - 5) * (x - 7) + 85\n",
    "\n",
    "\n",
    "def f3(a, b):\n",
    "    mpl.rcParams['figure.figsize'] = (16.0, 6.0)\n",
    "    x = np.linspace(0, 10)\n",
    "    y = func(x)\n",
    "\n",
    "    fig, ax = plt.subplots()\n",
    "    plt.plot(x, y, linewidth=2)\n",
    "    plt.ylim(ymin=0)\n",
    "\n",
    "    # Make the shaded region\n",
    "    ix = np.linspace(a, b)\n",
    "    iy = func(ix)\n",
    "    verts = [(a, 0)] + list(zip(ix, iy)) + [(b, 0)]\n",
    "    poly = Polygon(verts, facecolor='0.8', edgecolor='0.5')\n",
    "    ax.add_patch(poly)\n",
    "\n",
    "    inte = int(integrate.quad(func, a, b)[0])\n",
    "    \n",
    "    plt.text(0.5 * (a + b), 30, r\"$\\int_a^b f(x)\\mathrm{d}x\" + f\" = {inte}$\",\n",
    "             horizontalalignment='center', fontsize=20)\n",
    "\n",
    "    ax.set_xticks((a, b))\n",
    "    ax.set_xticklabels(('$a$', '$b$'))\n",
    "\n",
    "    plt.title(f\"Función: $f(x) = (x - 3)(x - 5)(x - 7) + 85$ \\n $a = {a}, b= {b}$\")\n",
    "    plt.show()"
   ]
  },
  {
   "cell_type": "code",
   "execution_count": 14,
   "metadata": {
    "ExecuteTime": {
     "end_time": "2018-11-28T23:01:22.217571Z",
     "start_time": "2018-11-28T23:01:21.726577Z"
    },
    "slideshow": {
     "slide_type": "fragment"
    }
   },
   "outputs": [
    {
     "data": {
      "application/vnd.jupyter.widget-view+json": {
       "model_id": "6fd20bddbe044c06b5f4f9aa8c6f0a85",
       "version_major": 2,
       "version_minor": 0
      },
      "text/plain": [
       "interactive(children=(FloatSlider(value=2.0, description='a', layout=Layout(width='99%'), max=10.0, min=-5.0, …"
      ]
     },
     "metadata": {},
     "output_type": "display_data"
    }
   ],
   "source": [
    "interact(f3, a=FloatSlider(min=-5, max=10, step=0.25, value=2, layout=Layout(width='99%')), b=FloatSlider(min=-5, max=10, step=0.25, value=9, layout=Layout(width='99%')));"
   ]
  },
  {
   "cell_type": "markdown",
   "metadata": {
    "slideshow": {
     "slide_type": "subslide"
    }
   },
   "source": [
    "### Polinomio de Taylor"
   ]
  },
  {
   "cell_type": "code",
   "execution_count": 15,
   "metadata": {
    "ExecuteTime": {
     "end_time": "2018-11-28T23:01:23.077559Z",
     "start_time": "2018-11-28T23:01:22.221571Z"
    },
    "slideshow": {
     "slide_type": "skip"
    }
   },
   "outputs": [],
   "source": [
    "import sympy as sy\n",
    "import numpy as np\n",
    "from sympy.functions import sin,cos\n",
    "import matplotlib.pyplot as plt\n",
    "\n",
    "# Factorial function\n",
    "def factorial(n):\n",
    "    if n <= 0:\n",
    "        return 1\n",
    "    else:\n",
    "        return n*factorial(n-1)\n",
    "\n",
    "# Taylor approximation at x0 of the function 'function'\n",
    "def taylor(function,x0,n):\n",
    "    i = 0\n",
    "    p = 0\n",
    "    while i <= n:\n",
    "        p = p + (function.diff(x, i).subs(x, x0)) / (factorial(i)) * (x - x0) ** i\n",
    "        i += 1\n",
    "    return p"
   ]
  },
  {
   "cell_type": "code",
   "execution_count": 16,
   "metadata": {
    "ExecuteTime": {
     "end_time": "2018-11-28T23:01:23.092560Z",
     "start_time": "2018-11-28T23:01:23.081560Z"
    },
    "slideshow": {
     "slide_type": "skip"
    }
   },
   "outputs": [],
   "source": [
    "x = sy.Symbol('x')\n",
    "f = sin(x) * x**2\n",
    "\n",
    "def animate(j):\n",
    "    if j % 2 == 0:\n",
    "        return []\n",
    "    \n",
    "    x_lims = [-5,5]\n",
    "    x1 = np.linspace(x_lims[0],x_lims[1],800)\n",
    "    \n",
    "    plt.xlim(x_lims)\n",
    "    plt.ylim([-5,5])\n",
    "    \n",
    "    if j == 1:\n",
    "        plt.plot(x1, np.sin(x1) * x1**2, label='$sin(x) * x^2$')\n",
    "        return []\n",
    "    y1 = []\n",
    "    func = taylor(f,0,j)\n",
    "    print(j, 'Polinomio de Taylor para n='+str(j), func)\n",
    "    for k in x1:\n",
    "        y1.append(func.subs(x,k))\n",
    "    plt.plot(x1,y1,label='Orden '+str(j))\n",
    "\n",
    "    plt.xlim(x_lims)\n",
    "    plt.ylim([-5,5])\n",
    "    plt.xlabel('x')\n",
    "    plt.ylabel('y')\n",
    "    plt.legend()\n",
    "    plt.grid(True)\n",
    "    plt.title('Aproximación por serie de Taylor')\n",
    "    return []\n",
    "\n",
    "# Plot results\n",
    "def plot():\n",
    "    mpl.rcParams['figure.figsize'] = (12.0, 6.0)\n",
    "    fig, ax = plt.subplots();  \n",
    "    anim = animation.FuncAnimation(fig, animate, frames=10, interval=500, blit=True);\n",
    "    return anim"
   ]
  },
  {
   "cell_type": "code",
   "execution_count": 17,
   "metadata": {
    "ExecuteTime": {
     "end_time": "2018-11-28T23:01:30.991459Z",
     "start_time": "2018-11-28T23:01:23.095559Z"
    },
    "slideshow": {
     "slide_type": "fragment"
    }
   },
   "outputs": [
    {
     "name": "stdout",
     "output_type": "stream",
     "text": [
      "3 Polinomio de Taylor para n=3 x**3\n",
      "5 Polinomio de Taylor para n=5 -x**5/6 + x**3\n",
      "7 Polinomio de Taylor para n=7 x**7/120 - x**5/6 + x**3\n",
      "9 Polinomio de Taylor para n=9 -x**9/5040 + x**7/120 - x**5/6 + x**3\n"
     ]
    },
    {
     "data": {
      "text/html": [
       "<video width=\"864\" height=\"432\" controls autoplay loop>\n",
       "  <source type=\"video/mp4\" src=\"data:video/mp4;base64,AAAAHGZ0eXBNNFYgAAACAGlzb21pc28yYXZjMQAAAAhmcmVlAACZKG1kYXQAAAKtBgX//6ncRem9\n",
       "5tlIt5Ys2CDZI+7veDI2NCAtIGNvcmUgMTUyIHIyODUxIGJhMjQ4OTkgLSBILjI2NC9NUEVHLTQg\n",
       "QVZDIGNvZGVjIC0gQ29weWxlZnQgMjAwMy0yMDE3IC0gaHR0cDovL3d3dy52aWRlb2xhbi5vcmcv\n",
       "eDI2NC5odG1sIC0gb3B0aW9uczogY2FiYWM9MSByZWY9MyBkZWJsb2NrPTE6MDowIGFuYWx5c2U9\n",
       "MHgzOjB4MTEzIG1lPWhleCBzdWJtZT03IHBzeT0xIHBzeV9yZD0xLjAwOjAuMDAgbWl4ZWRfcmVm\n",
       "PTEgbWVfcmFuZ2U9MTYgY2hyb21hX21lPTEgdHJlbGxpcz0xIDh4OGRjdD0xIGNxbT0wIGRlYWR6\n",
       "b25lPTIxLDExIGZhc3RfcHNraXA9MSBjaHJvbWFfcXBfb2Zmc2V0PS0yIHRocmVhZHM9NiBsb29r\n",
       "YWhlYWRfdGhyZWFkcz0xIHNsaWNlZF90aHJlYWRzPTAgbnI9MCBkZWNpbWF0ZT0xIGludGVybGFj\n",
       "ZWQ9MCBibHVyYXlfY29tcGF0PTAgY29uc3RyYWluZWRfaW50cmE9MCBiZnJhbWVzPTMgYl9weXJh\n",
       "bWlkPTIgYl9hZGFwdD0xIGJfYmlhcz0wIGRpcmVjdD0xIHdlaWdodGI9MSBvcGVuX2dvcD0wIHdl\n",
       "aWdodHA9MiBrZXlpbnQ9MjUwIGtleWludF9taW49MiBzY2VuZWN1dD00MCBpbnRyYV9yZWZyZXNo\n",
       "PTAgcmNfbG9va2FoZWFkPTQwIHJjPWNyZiBtYnRyZWU9MSBjcmY9MjMuMCBxY29tcD0wLjYwIHFw\n",
       "bWluPTAgcXBtYXg9NjkgcXBzdGVwPTQgaXBfcmF0aW89MS40MCBhcT0xOjEuMDAAgAAAFhRliIQA\n",
       "Ev/+963fgU3AQO1rulc4tMurlDQ9UfaUpni2SAAAAwAAAwAAAwABi75+fOesNy19oAAAAwAloAPU\n",
       "BecRswP8wArFi/x7Q+zek/nOq6Y8gRzOVw9OIzQeUrREzbPCwExRTdG4iukp5qBAwtvDDd8A46aM\n",
       "kxKWU9K9EpYaXSHA0RaStclBosUL7PDqRqqjXsF4KrZ+kBkf+0XGWnxFqNavUI/pZE6U9/++p6Ov\n",
       "Ca4yuc9TcBzoDhU7k2oNJdgD6pQM0fkDrqLYTl0gND/RGc36mTJGVS/T+S+12Qchu0L7g/yLHq3P\n",
       "4ZoQFR4aceUbXq71ALz0zxF8jsIn7BsLSU8hc+PjJ92q04inZDLX8ZtMMDCH4xa/R/B+XRyw6mnX\n",
       "ulTlV3BHTNE6ToGCJM9gE7F6Tm106zrGEM+2YUpCyhSOOdYDPwqhN1Zat82S0eCoYKpQ9OW5Zqww\n",
       "ER9I5nnsXcr1omKkGsbMmOXi68yiE4bgXAqEWeIRv4fcr+AScwMS/bcYqRC5UTBcLK6LKTrMwABU\n",
       "Q5a2RYkzzUQnTouezB03jjjjip0dr/+smCw4WAC+EcQegJ6xPn5O4QUluelzHdcqIVvsP1HkLYFX\n",
       "i6Ky1vnuBtebfnRGDGqiPXqsM5UOn4xKm9W7zMBnnlW/AYFDfv5sFJbMClIofWptPklBIEeErdTn\n",
       "UmXLjw1FaCjJ2567O8wct7BD558OKHakCUxPvDCEoKqNOLubvNJQOV71FPEJEvA+a4o8/60r3O5I\n",
       "JSuwHsggr03kARHxAln0Ay0Cp90f3BkCRNRP01uX7GIVvzPtyKIyGOtwCMGVbO3UxKc8mR86AEJ7\n",
       "5/hNEO+XG3naZFcSKeEOeZxqYOhuXVkTmgen4n9MbK7VIXGLop/SOgBBH5xhYEY2ev+n8z1at3NN\n",
       "JFpHcuQ3Fuo6u1OHtpCNTUyoqQj2VEpBRfpNT3bIn1FDvixp6ZLzEF+zgJ3uexQ+sUBC5ayP2qqu\n",
       "4iOkvlIxq1npKgdDo8hTV5zLJURnaR6gV4H305cWQoQ3xuJwKDkzlmkMkPGeowlZs8UNtbokCqbR\n",
       "oCL4GwmGYKhFco5BLBPR8VLC1AZiq7Zh+VqVGpzxuxnDoPTy6Sa12dmSneaa3nVrNTuDNcgQBvKU\n",
       "nxJQGTm+uOz7TC3ACp0HAr9cN+o/pKYcWyb/n+sZW+NSE2q/Js1yFSDMR0QZhoFysvpm7KMpj/K/\n",
       "9nY1IkrlxSfh25grgTtn4P6n8NwjEDPqrzVqA+lqRtrsQVhpNagN842lbS1j+92726JjkEM44vXL\n",
       "EeV7iTdApHt6RpUxBbLHivuxdbPDvwolMTm2a+Srs9fS3iNVr14mBvkwNb9rC3TSB4xkHKGhOTnH\n",
       "vYHRiiFT4UDvOH+g3Cojr8NXXpBvaOxpKXe1/X4A6fTmbpcKZ/VgSpAGBBLR8yAUZ1ye/aXYbeMU\n",
       "911y5MdejJA3SU2XnEGZDUGgKdjJ136ujhyw24L8pksjAPySxWcPl5CBx4AxRbSwM96LhA0icY47\n",
       "Nj0Sdo3CBkicDYWu3Wqr8FDtmhw6loMH2Z/iJz9hKXFDiSGxyD8veQABx1ttzOlE+LIAvFB0bk7t\n",
       "Uta3PIYftRCrAJBrEv2QOZJUIcApNn3+Ubpf/K087/JFbOmnqmjc2g0qPhC5j5rgyALzG1abiUb+\n",
       "+gXiw7l6X6UpIdlUDaF+D7h3iym7U0mOHNl+irrJkIQyon5qp6DFqsNeNq8jCYwnw9Gh2Ud38mbY\n",
       "Zf27DfdGSNz6CP63gjgGamT0WSEMxbC7OYc6DBypEJ11YN33LuFAq/3UuduKUtZBTUP/lAE9vbP+\n",
       "5qjf3H9zoJhNRKKphvMP6wOiGQywG+EiFsk0agW005STnqmAPDVc0PUDZkuCxRD2t+1yBnKMTdDh\n",
       "kyckV9gWk9LXi0/ny5LI1A5en1ML+PLgYuk3xgfMYInFLU0VtFcb3nGSKgDQ25UkJz0MfE/BRGNf\n",
       "1XrpcjDCMsVrAXCgATpnLQA/wbQbbnwE2mfDvDfmB/FEd+y9/S7sW7dMS0C7fIqzlwL3IouTKSCm\n",
       "YGiTWlMAxSwrUdJifD4W7NI7134l/lvb2tpVVMvDIpRO+Zsme1BqgoqEYaNf9ocvzHso6mxOnTRs\n",
       "RrjAbUJbTqbWGTpXRV8dxZxXbygipxo2kyrfGuizuobM133NRrtRDEhMdX/z1PyvByRqK+5wbOuA\n",
       "YmwihYK/EZenuQrs6Em6LBgh7DcoVi8xa1avTsXdl2JfIrRuJ0fPWIkcgn5zmzD2kWB2CmmXPYY2\n",
       "WJGRO2kBubIwUysv6Ka7E2vTDORkirAavDskadh85n7CmjkkaAnW//F0nxVkd8vFmkIchBpeYtvE\n",
       "u/6eHnbmGfd2eZwUJWWMyXDtUpnBkWSHyvaIWdiT3TtB6TPqhySoJhvHiPJ509KoouoDtolXBHyw\n",
       "bKhYNZo4vZIsY/Eyfsge6EZJfwvKz8hkv4Lai0s3pAwjeu9sW0+fpe62Hu8BxzE1W4m4+SKZiquM\n",
       "uOF5+2WNDLal5zQPKAfXBKViYuHCezGD3JUZ+TuYuvLzURQMnZCrpmlVgrad3HHW8hg6UdIZXtSa\n",
       "GEiCWnqCooZIV8VJ5o4rCqcs2Tjq2NfeNyQ4Q1k1M54J443eek5oo1RoERZVT9K3z67ZuI7hQsLu\n",
       "Xyfi2LHVRhohCFpbc8EvIs4okhJr7CpKR4FSA0nKi7VImdboFwcFTNQuT6H+PyNmYOlwBV4fDAvw\n",
       "LVhk1hVJAMIi1tcY4KuO5PVjjcVJLi+rvJThXsAWUBhenSlf1h8sMEadUUm0SpFAyN9Q+Kg9JqG0\n",
       "24SOcOdryXBXC8dK47HCK63gJIVXdO03lzxEh3+eDQiFbM3gCzBOhzv11oFEvuRMTcfDk1zm6UF1\n",
       "ldMOV4z8m7gkUFJGCdQgEBHSW36hjNOxtYl0Nj/0r6lIryfS8STKhpOcIFRmIB+8coctrTHDN42H\n",
       "BOB5M9asfwpLdgOyFypYiSzOHcWD7yP4kCuIpvmqH4lwsHC9ST6lOPPqa9UfqxZRy3RxNMPy5GHk\n",
       "Gw2nOydocYSZg6krtYT8BvvWr9Q9CoUi9wdD7ARGjd3St1OnzVXnSHTQhPHvx0Y9q1V5HAIFtriz\n",
       "czCOfMlZkG66hLey64vfk/mWGvYpb2kKRYSzi4SkrYwN1uQxMIX1kYGrhAtPw3QJuept/KrYKd9j\n",
       "ABKvrm3OqW4854AL9Df5Eef07TzR5/vaqLzbXmMjss0siKhI8M4u9qZ8gRqgy386pp4+J0hIVm98\n",
       "6jX87XMhmQDWl4Y7K/j+7W0T/IdoGoGWxW269gpWX3e3bS5Jg0k/HuLizWDN7mMc4MkBWJvqbjKl\n",
       "Ti8wdLTLeawt97bXne/M2IrDZoHF4zioFSKyZvnWcwBkxXrrTk2Ej5mXZ35ZQxlCGh853JOGpdNJ\n",
       "WsV/40FGklHdauoGQuUYVt2l4+vUEOZbWFmOm0+D0MOXAk9CmRgpcoXfe8dmkhuXI7HEn0NUHp3S\n",
       "4K0qLnrDhiC7Y2PYsYO0pPvnuck0XNqNhBONLltu2uhJQeBeS6CINwqzV8yMbUmW9ujIYLkARSLn\n",
       "1UKK1h6qr5Zt52TdxooOEc1kn+v15mA7/wsHf1rhNa4xogH7yJo0QdHlAHeumzES+k2PL7D2u+9Q\n",
       "uf07SeyDe/K61gJ5IssnJDCXDHdqga2xzgiqDgIYtwJ8prabic0k4tHO3xY/2XPq7oaO0mS25QJD\n",
       "l3Ak9aFPBFpydRtCyqyuTpuMqRuslg8+MLTd4m3U6viPBWHM/EQmragPY4h5SoxOQf/nshHGcEiG\n",
       "j1gFz4kr3jvE1Yg6JUUWWjHf46yQV6dS1xZSp4tHHz3Kcp+5Rk7AuIAa1sRjH92s6n8gaJ111Kaj\n",
       "7zZ33ULYEEPCCbHEyy5LbN7+xpyrJlKzC7myZ2uQozDmFqJA7Bzpq/4dkIlA9++WQwJtqMddQwxZ\n",
       "M/tArew3p7tCZ9C+QjBo6ka8/zBl3J5clTwmlx4uqxSkcChCggiGSHIwBKGhVUF4Xy4oTcHEuKvd\n",
       "objkSyQuhh51ndCtHlMTbHTvSOqPj6gECHKNV7iyepqmIDs4lQtPJ38bILYPa0yMd0akx0+bUgHi\n",
       "CkGaCPkHioKGUH2wOX/N5FScpePhDvXEIYIt7zl+Y1y6M7WtlNzcMEQGWA6zANIp1qJ6P2QGdCYz\n",
       "0r11OhqtRADgKh02VVkTp1+FjXHi7Dv7jcOZBpOFPVlclrYa34E2Wl1DwX9GoZbsckbwkGxRTnox\n",
       "nBrBmJ9k1dZaOA+c6v5S21CS2obS4DT4WA+XT4QYe1MF49QimT0pYjCPd8Wunx3cgYzX6FXQpvKy\n",
       "OhxlxlwMTWV0oxwYYgl/DEKRCgQsu2qq5XUHVCfE20kUrTyKHHbqmGTBOOVAcu4cAT7V6UAeHqLx\n",
       "/PzOMkBFIusdSlVnpsJgk37+gqaiMpVuomW6TfmX2lLX7TnJ1C5GW28nhUlboGZLMTGDsoNxwSxA\n",
       "gLd+SGiGZBQe/Pw0LzUH4N4LwdehNwucUdjOzAjvXleSMyXsVaImjrADBb5owzyLe2PAnh8DBsza\n",
       "DCJxidAyizcjzWWh1Rb91VXv8moJLKa50L+gJxTT0h4yi+wR+YwFSHwpryNTyRoYWkIt0m9iuLRw\n",
       "rLvF1PJRfCe7DOFhmoaOe+WxDnpVBtF0KWcZKbDUYyTwZ6SH+rKE18+KWcxpzlBTZl5tiwWwst+1\n",
       "o2Z5sCDD6i5UZ9G7uCjmB7Tu/xWhDEqg1y+UJmhQ+uC73Nq/DVhDsGDbybqwwxtyqkdJVXxdww2h\n",
       "FXv8bFEJc+cMCVbWrF1M1vTjXQLjsPrzaZ4vcPJoUmZXfPQ0Ws3k9FN19xMYDesLHel0VG3e3QTg\n",
       "RMV1HSfJLJIF6FSo4sccyCi10nq2/RcFwe2WGTGQVnMbOf1RiDhB8Elzs6H62XdYQQF47mQ4/3HB\n",
       "RWmFSrSOlnd3URMcZI2aaNZuCQVgZLqXyt4gEOq4OvXK//OJgbSNyY5gXWeeP9FUl9DFqYZX3RsB\n",
       "anMt13lePeNdHom0A0sOTExBeBUgtjyrPtJRWE/EC8Yaym5+wzooszIOPopkyKRfJWmxpQAofi4m\n",
       "ZqNYXRi3IPShc8G/QM+PPbU0/exoMcrnwMUDBkajiIBE7NgqV3vzrv5xD13UozUv64kG04trrNFN\n",
       "qBF1bz4n8VWDOnG2BaX63RcBoruo4eP17zLUxOgDoHJXUt1cx2IxIz07JYUSBfXK6/irJrbV7IaH\n",
       "tRe7D7pwD5gHZOyHjvtgFtrKwimdWKj5XMeXWmMXl5SQsSb4ipusVBCmSjHza/qSpliDIpS+OEKz\n",
       "u5l7TYSmC/GjHxYl+2rgrjDz0Cm6B4O2wCc//9fmfvdjgsk0gCVnInxTj1bTTihj8+t4SDM7SYAD\n",
       "WV+Hzr/0dkCfKVlrlEvv8xR4uT6w9L3OPWePToxoYlBIEIrhqekPvqesuQWmb7vDPUZyx/kDFUyA\n",
       "ekntxKNyXvK1BGIPrpVdVWCA7efH3jyrqkC506Wx1cRV6tpAhwNtqTlZXxN+RCngYpelUnE/gor4\n",
       "0mXjoFJbNtDqVO69yu9W79+vHqplzAcFZ0MvkbIMuNgDXhmEzlIMZ6ikbZt33iD18X70fVF2necU\n",
       "HYqCvce/z/k5UHpeHiTo0xHf/QdtdXcwMQqcbHEAuL1l095nzQNt4riaktwrjU18xS7rkHwO//sv\n",
       "2/1jPbjDaRPtiuHJDzst4xE2G7P0oKwnA6OjkAOv1zKOCP+fg/Mcp/MbrVERceG89xYAK236B0bu\n",
       "V8U16rHIhoQZ43dIjcR31o2NviJ5YIyhKTVboxOAAQvr2rlMIXp/Ay7RUGXB1e+9X27478GVz0Vr\n",
       "5v6ggKO5x+gqClZF3wlftt59HTCAAu6W0rIU130AIvSNoVIyJSSeRc89FT4vv+rfUg6Wu91gqmU7\n",
       "uADY8Uat1wWlde/U1imQnGuSEOjaoLiyxdxyjJed7Lqf4NJl/e4uATa3/2mXSQz4rK84xE68BYn9\n",
       "NKyUfYvP1C3OLf2TW9bgb+diaYtFbBmvs6H8B39zw9N+1wJaNClZr6LZuibxAjha3omBFsia12qw\n",
       "Ey3wHGZgKvIk2gR5mXwap2/YL6thEBIm1AMz7Fi8xCCMnfc2eZK6NwaQj/6lGF7gJdo0rmGgau8G\n",
       "U8N9DgqiQ9h52Y2Az3kbcVwKJbVG7KJr6yKDFy2eqvyMXpS1K3MLyNmRWJ2igvDtT/ZV+eq/SqDd\n",
       "jGZnBgoexY/5n80sr3B7GiGKJ1X9j40+YgHjgUL8MwVNlVznyjZIxe+865sZ5cJ/2LAdC/y/5arh\n",
       "b3XeN/9WLNKYOocxOdTJDJB1MjmyQaHuTItcuLOFtinBGu12s/iDwyO2n+6i5+9gdpqrv/v/h/7f\n",
       "dO+UUKqd+s7u+wM9+lsnomsTkaltxLCTM2HhaNwPJqWNUwaR2ssIpd/bUqnApDu9Z/d9xBhnBWq6\n",
       "PXLWVRZU+A7Imzj9TjuSKYDCEXRHvi10v0gEk+P3qMl25FXRdLugR77HhvqI1wQPQ/L44isjtP/3\n",
       "R8XBeWhfrmUl4ovIBq0Mc7cwALogvnzquH+q4yBQY/ZKSuzLFZ9OwhBbOLdJP6Df6u9WWw82hKIk\n",
       "+bIJ3pv1Kwe4YIXIiaVTnebjCBgNGsZBAKCbVOvxwTx0doHLoZ0R3nvKEhmu1u6+cEEbVM2wrUCA\n",
       "1obRjZuNfKyaJ/8fbSq/PtYOEa7oyXNn5jLZ5IMCvTaCsU3Mta5//4wJVx8TqhyDjA53mP8oNemQ\n",
       "yZt57Oty7zomJtPb8xw5dMMYPNSfZyy118OCiKjQtHtPg3vwjk+e1m1u+2m01wtjJZ1LrxiVXmYm\n",
       "2Zm8wuCCh9GPx6Yr2BBagznqWZlqAAAZqpv74ogOc+aAnu/x4mTZlCVlUHxN6fOXUUYZMOT8DXVB\n",
       "MWpp/vT7fPKIcKqBxqS9vKxm3EdZ/HzO26yKcUT0dII1Ezvzq/BAlXZw6huYBk0SNoUNpsfkb7bU\n",
       "kaVYYKQTR1cM89nR7KHoH50w4y4pldHE254Km+GNzYZOKHm9RioUC7AUatz5sxmkNFZcBwRD7aIm\n",
       "oFpGIawQa3PlpTHWre5F7Wn8qR8E7z/VcOA8Q9aSM3oYE2SkiJOmREtxu0LA0hBSxpgRVJ4r0T5g\n",
       "+UvCjNsdLnSE9qOpCRy62WW724AqdRp4BSer7iEqbFGNtuzR72CEzjr48GZzyu+FOI5AVW7qw/J/\n",
       "GwuqR1k2i2CpAPhuyPGBywBo56IVphMMVYF0Qnwiz9pwMazzS3MP9Qyaagcx5rtxxqhfngKK/jAp\n",
       "1C92eCsM6OESaVZ2dzc6Q07p2C0E2lQqOtO8mmL/hWrxe2E29OTv3WlOsuZRYQplXRsRzxmEwhyr\n",
       "tpTzwf8oQ6SVH57FX0T+XMWWFuLa2h22IUmhDiVgxgx7g/7sAwUwRxx6LZc2Zd9L9XYZt5Coh8l9\n",
       "GV0n0wddNZZsNtps7nSAiAbqdRimmT0oQoj9cILPXtV0knzOnehUFUTcflsVNhj9oc2w8AAAC3+U\n",
       "AAADAZ8AADwNQYiIQFv//vfTP8yy6/c5teOo96KeJl9DdSUBm5bE7TqAAAADAAADAAADAALckCs9\n",
       "6ZNaRzCAAAADABPAAgI4/+Qgb/xANSRhfVOcv/b9R9xLR1i49VhrVdgPcvgChsSqNuH133iC1oTU\n",
       "czkEJlxbug6Wb6MG/1Q+AmHMNbTv/ZGHtthEmAUbYNjjdYglNAnGe1zzsVbA27JWXWe4CtXWpclS\n",
       "Iv3c/YaYxV149nQBdhIa3Um9Gl7vPNnbC5wDG9RjiOHXc5kJV6i0yd3UeylP05EPxgwJ5acUHiUq\n",
       "vjdgWNXXoI0vqeKbORQmV7yGwuwwYbhVnwneiYttQP8/Y7w5EGdoQj1O5kfEByPKoJemY8fj0iU5\n",
       "+ywYNhGIj06nZ5Vt0PiC44SzC5GvutKnakiTeMhigxQe4kxmia2a+q9gAf64wSszvtCl5keUylgy\n",
       "VtjJ+3zUAam12Kgc01DHuWc0T4JMmztQ1T8pGOVS/yIUkSpC88YxMMt+PdVlKJzPVoH+/hmMuFZu\n",
       "RRTBpbOq9xpQ3Mgq3n8YkK5i7m2QRo1fJQ4XDHNrVeIMnmDSNShbQgm9zsnXe9GaBCKcGpTQjt+I\n",
       "D+AOaQTj62vUdYe0aztaIHEksM/qBQ4zhqL+Ftf/bfuclzBr49VWHFF4ZObAK6HtpS93EGEC69Mt\n",
       "DmMUCgaYh50cqdPGyjmgXgWLaYwo6aFh78pW9IgU9BiAHeHWLw9vmKAUVchyI27olGOXPatf+Uer\n",
       "bWUdsZvBrI5S9t2ZZHS2EnLiAlDW4MtbkfMSAHxEmq0u8NQZvAqfQmOnIBJC0SS/0Gj4yoBYjLz8\n",
       "5qaMk7EwjnE/WUSr6z+RS+Pq5x67X50FN2eFea27VhNqu2FTamKeYAMq+SxjSfhzfQbwfTWPq45z\n",
       "7cXv+IJ/XO37FAGY2VnsFHRf3Ej9paCz5QbLt/8wjZ4YWatKevr8vbnNJiyfgnxpwRrPeMusnt5j\n",
       "jNgfqzjtsPXIP8mmUdz9Y0834BZ+RMoPntTK4u2DQXbi2joDLLASBoVc4B1F7Imyl23xpLTrR80r\n",
       "O/wCBIKbemiY7H1VZchfvRum03s0FM7Iv51kuhSl+HjBgm/S4l2TeziEHn+OD3GG5bb/Rv8/D8oO\n",
       "sam1sTxx7RlYiF5Lr2pPS94fAfDl4CUWJ+piigvYN/hEqpcWnNcNGMz5EQ7E8/kixMXAq+le3+Yq\n",
       "8ujcLftALd8x2B1UdSm3OVToE5cigcqb61Ys1/+EVgfInARwkj41PGCb1C0cQOOvL7YVhVcyhabj\n",
       "vLe8CAkYWFlSSFww/ihIguBv5XGuHiM8MK1A9EgfSaMBDHdIe2WlOiTp2HuOWb1E61i1Rtn4ssyF\n",
       "jdRIAcqA+2pgAHdsS1E6SxDi4aE6Eg1Uk3Arek2uoYS7uigmBzxGVKqqjgITKbDNVhnIXVTyCf1g\n",
       "XCz6QjCW1+pCSMSqwvAkzynEAfHoB4TCR5GGH/bk4ko1f76xQIcOOOaaMyb+Px/PPAdi8FSovyRg\n",
       "I6+ibzRWcbdDV2/pCfzE7YQnQap+Aun1RRkwkM9JCha/lwrZwuxbwD1FCJuTi97ntLw++Cxq4Inp\n",
       "W6UDAVzQcTpZUeu/j+LUirRhJCrbuv+DG93DWw8r+eqpcKtaC5oovC2oqca7FmqZ0HU1kFGpTUXQ\n",
       "hWyoDyzBHQRTs8kpon2DqkHcrHmXfcVjxQH3msvntBCwk2NeujfJLYtEHQS6BGbrTFke0QHiCJ6h\n",
       "8LSYAhzAC83Bl+wrqrtaXOPVBW3o2IM6fERno62806cSlJBxa99w3YJyZ89HvHUceuG7fggtD+f4\n",
       "O5jYmrhqY5G88/IGIvP1JfwQH5LUIovt3mfLViGiR4hJmMzhNWOmqOAzjWbtBJyUg0TORwTgKCEX\n",
       "5uNC2F/q9F+AM/Y7mGEESFbCO3v2tpWjPQsV2Z3/143SHhaenpczQ5Mv15VEOBD0ZJaeRlJ+D6S9\n",
       "3TmofZjT/ySWgg79VRUdiwFHzVOsHmNtv5LRJjYY/hkRKoLSfnM7D8WR/ZY5iHOWcI++cP8/aySO\n",
       "MgW7enBmKmyeT6xY02sZ3Ib5Mpc+RdPd74cJPwAqyHaAOrxJLSTIJ1x369qQmYUpNG1sdPB31OTC\n",
       "hz7ukQDNwb/QKbEUMJ5aAcLGOxhHsFYE/+UWRJxOzz4w39aOV+yHT7v3MlUagh+dIjiDne3hn7cz\n",
       "A9ZKhacyxrz/vf9Nf8dw+i6sjIOOwuzAUdtYX58j4TcsDfn2PQ991wlHDKFhuN1lmEkxVEJLeDBX\n",
       "rFZTmfbE67E3XMWrDfIoAFOU4wO6kBfb0zdwGAflPvBtxCmsdFYPwrTalbP15EbtVaI3Ds6cDxEQ\n",
       "LPP+TzcdKgUhPg2CuibrI+1SgAJyL/lYYbJpr9i03mniCMdh6s1Evgp+GQH1HWo1X9341JIV0w96\n",
       "UZv8AfoiIO1aDfs6enMCXaEKchdTpJraek6K8VQPPo3dAuOi3uCkvIjLz6tz8LZXpe9zxQC86Lgg\n",
       "xUBSU56NED56gTwAIy3S+TjNQe9wf2ppeqhsvifyQRahmCyBa4UlY74ASvSameImUyd2vWF9X73w\n",
       "zRt0IABlYHnWLvlGty3zpzoA7uIll65Ajw7YFvvgQYzDQtTXS+PLE1kpIuTmIR4pNQWoBGNMJ0bd\n",
       "WI0Bl6lSoBG6X7dYMg2HFHbjAcA9hwcCFDfpOHO7+0uAI8pWjQwShhT+8tp3TKzNuuDunvSGYDlg\n",
       "h9Dya4w3vqQ6APkq3vf5dQmlJGWkXhnW2OUSMPHbcX9dOysVTLyBVXfJOqMNzC35Ko3lto0EsHyj\n",
       "D123GglKC+Yf2LPaIb6SnApqmak/yCSN5qrNUN6YzManq6dpRdNTo8GHHj/0C93nqIQAAMCT1ShI\n",
       "1y+yr0VTrGUg0twH3Nby6lWJWaEkin1IvK/PIbBpOY2YT40YiWXzdDQhy/as8I0qtnv0knGro3Wx\n",
       "8QoJFzXA/YK62ejJCCI0Kuo3PubdaBwXF8oJ/DMrDEXz6fo1X2hqK70OSASJPbuKM82aI53NBVob\n",
       "iMQE/qsxJSobIWdtw3EX6wj59SwwNTfc5gAyFyaiSG16v0+JXEXuapRA6kQuZPT1+Am2y4ST+204\n",
       "HKGaremHfXXoTPyA26USl0zodVqUKGNJUYm54JNuHlKYx5w8nfWMxw/y/5pgAqXL3LXEMs6eUoqs\n",
       "nVPb+OT7rlBOftTjXfm6BSHA9ElFA3yQcYONHIuYaPpnbpTitYPcvxWZyQSnSiQV/gpGqsAzm9xM\n",
       "+KdOMJscoz1rHAdXm2klLTCJxJ+J1llhaKvfB9EjIaH0dXemAytCzbzlzrALxfLIj4Ud8j3K9K+e\n",
       "NnPr6HDPQDxrT1OdnM0icZThVKVRFo7BEn2FbMNLFtHnAeIMHCYX50qDFYd0DOABrM1U8AZb1SqQ\n",
       "XE1yiQAVZfl9Yxi375Q2DyM78tldi6eBYGUUDYQazLcrP8G47xvP886KEpN/4N6tO1lcUQlPY/H0\n",
       "949fhdVaLutLPdXBLz6LVAiPls15gpQdVVuAMxaDQxOFyz1aWCVKXLKBC/OINNteeGRtlLS9D5f+\n",
       "vfGkFLBzR+L/R4zVKzfFpzL9Gd1N6yNPgW6qhWtDGL2lhRQc+j9qLRvjYX7FDJVlNunxMmC3H5cw\n",
       "9hotRDIHa3YspsT+MEMviBjeWVFlaLTZ0iDRvn77i/TN52FzEtP5om3pvoxhcJiPRcDYeOT9fCLH\n",
       "SCCbdGXCRj0GO4E6uhGyqnuSWrl+dhray29FDI50pyGXudPgmK7RelH7mR5Gw5pZNgeDlkdzZOvU\n",
       "IVU8DRSm7Qov9np0/ztASTYjYM+prfgnc6hjQPrLkZWk/Lx00dnBPO/wa5kLx5OxFIzvYNGSqA+9\n",
       "20s5Xk4v4bYtYlndWZNx++FIKVOkA+CIHx4XyXVUjxhx4it5rmzD57e5Bc1pf4oWrWuQ2PCN1CUO\n",
       "aUOcoP+ahC17VF3cnOfgW+E65p5ws0IeiglzcrUfB/spbFMzbo1cGIb0mviybWQvHsHT9HAn4CcC\n",
       "6CDQgEuJr0L6VFvSJ1P+9HIuiBQVcl8U67vJZlweUJlqtrt8TqiBVBrSbeET+Rp6feH07sr7Tvap\n",
       "Zqf05IZmztvVxD2Rg9nh81M5nhiy4opo32KSZUUmmtkGGf2pGH66QCUh14hfVO5SNAJmebzt4dFV\n",
       "G37TXEhDUfdJEOOU0rrjLMnMDw5QfOaFo7CmIKN73JsXO+A9dY3GaHjwBPerTp2zs5G0xCccjpSJ\n",
       "H0xuIerP2WM9P/iTZgRoD2SeO2VPJpIypNAETgDQWWlWkmxkNIWymuRUnm6aumur/9nipHViHGXf\n",
       "d4s4AVk2Tpn/vr/Wl8SZ4fwweAr91xc2qBaIUojy4+8vI7UKbwEJQAwCIb6AxdfmheRX/9j5sJNn\n",
       "fCp+b4+0/O4Y9w0J7DDyA1MZhherRkmzlWcdk9pL3odCfVeg6zm9avczD7oSS3DYn2jc8uN4yQen\n",
       "2xJ3DDNAFBtMxqp/mNHlUMVdh9Xgko0JdqX4EnxOUHUgCI1lmGADPXK3ZRx0HiEIovhs25WiGLAi\n",
       "4A0GgkkhURWhsLpDp0eZLYSaoQum8WFL2LcQAhZMnJnBKfQM13w4SZhrC4oM8CPwN1Gc8FPCdMbO\n",
       "GnefVbz7JZS5EbURkNv+uvCMrp6IkrN0ZDRyNk9o5iDZEAUjWxukiU4sLrbWq5wGC3++cz37DcKK\n",
       "SYf8EsTICDTXZwiuRF/3nVmHDgkkB8AIQER42gemzc75/OqPe9QXqMyQcaCWaX0zPVWGKOY4wnF7\n",
       "tF+LphYBtw/Cf29+p58SEQP7iaIkh1nhK/A/ZTksZjudZaPYA/CLbDakMGh29LAem/eKUmv1cJpA\n",
       "Zf/vSF3GCcrN5SutIIBKyTMdlUC+m4r7pMA11dk3e6xrftn8yy4vh5WYe0JD90WcWVvq2HtUIZew\n",
       "cV4wAjQOLNJKD0Ygf2v7eA0gkfnIvDv3vh/Ix5d0E8m8DztoGUtgh3K4pkHfmrK9gmt1NLhfuh97\n",
       "Ab/9AEUFFdIuDFWtrQr9g4t7OGzEZOaaTH1K608ORduWUkjSDiPXZN518EQyqFgTVsTSC4wdxCtZ\n",
       "44yqFrNQxZIsDph3ElsH6nxDihWsm1f3wOR4z4xJ5fYurhd0BtAgJEDy76jii3eOwwn9e2sBtpuO\n",
       "+D+cPOfSaOgL3YGOJmEzprTG0zYlKtVuMu33oW0JuAHn79B2x1zModqsLugzePpFA4gCZEemIC/b\n",
       "TKG81Xek3l4x6Sxi6LF02oZ1MWGgdgX7/1XLZLJgFxoH4Khr2H2ZkSaxKopJvbXpKdJIoR6oXJik\n",
       "K12csnL23Z+WEF6lJxnu9lfPBss4G3jXSi/xUnQ9Q1eMzfjr/aBl8gWsbsiBe93+BOFFihYW33Vb\n",
       "x06ZQ+r5cH5NlWhw8uCzwr5kY2FCIRLInECrQdF37AkmMTLQv+B4AySpYTAwhmPtHULnhnHf8JsC\n",
       "EJXCk9DGk2yUDhQWPn7Nn32SSQbQ1knDtoZIT+5a4MD4To3RuTFilS1CLEDR8jIZupvJOd+YrG//\n",
       "725mWKJW5b6eyIopfYsf5lJ0AISPdaMvZRBa1KDDEZ8tqvJ+s5A4/Jx+yF0nrnlte1IAuLzvaRw5\n",
       "5y+XjJKmHUKEcmss9csi+2euyQMM/wwaTZf7WMqXKXyRSGVCOz5kt9QNXfgVILOkjjfOZ2oYAi50\n",
       "q1aa258QXUNENnfr7zz8Kl5M6LtsHzRat6XF0utZtiDkw8efXaPih1Wotl8nDmb2rSuXvG0WQwe7\n",
       "e9I1S7WySiC+6QljkuRA7kFa0J+Y3bjqPzN4WbUPthHitDhtlsQ4ODwHLtYZpUApahu3ZFH5s8O6\n",
       "crZlGa6E5GBrroVEnm1DG8g9yif7vpR+mC1Ehs1Tqu2f3oWn+0uaS2oB8y9q4UgQxzy3iYOyA86l\n",
       "+bn6IcL5OQw1zd9cqKJ6csxExxUES0bnmcdxxJwJ5k9cWOmoAFIZge5KXuVW/r6/Xpv3e1cjITSM\n",
       "H+jzXFimBL7i+8kq110mZjS4FLPRQOPVVIPV0WJX5d/NQpp4HZ4oN8OqtNO21uD5OBu7Km8yEwT7\n",
       "Y+8NU1NXtPB/L6Kk8zfipuXKa1MDXwLGHyqAt47wWDg1Gkkfzb1XJnJZYPzuYiAudG9dtvWVAN1L\n",
       "bVgYxDzo0bReNjHHjwfMdioW9VVZERKGb+DYHszAIr/5Y4LFuf5zn/uam0iCfHrr06lSd9kdPjF5\n",
       "OSnPbNA+E5q8RiN0K7xmfYQvLZpdEhLYSkqZNshEYoBOKx2JhZex4ygJlIj93i2RwaRE/J6X/cHG\n",
       "mzyu6OSq3uY9II/z+vY8ZrApPyuviTUJMPERBzvhdt3OWltBN1Sxq4QZE64voY+Jz42HqeCWSuZU\n",
       "opmzwlsjSL6wwyjZVFYq0FkDTdifR5vd5wWRuhx9SHpn0KhmhuVk3GDAWp7uM6+D2Mr/lOXr3v89\n",
       "Wu3HTTrV0mhmxdh9IihD9uK2o5AqaNFdE6nGaLhewqaf1cOOV/r1/dAlqCDXBLyzfPTFwX1r1wc3\n",
       "qhM3q5/CAzzqRIN856pepMtW7S6IAEqijG1uhl+wo45xlIIrrMpkTB4wPXoyJe6J5YgPNJ1uZS7J\n",
       "VEd6XwWWzFlmTstC8PLtY+TgGxv+voliTeof93vWMG+lHy0UeReuMHLmKDa2bSh7+yyqxEL6t2a4\n",
       "ZHL8Jr3MGFBhyq6M9779PmhDQgINLcj7s+8HtvcEvEzjUBIdyE2TnDPWu68nN2XAyAVUMAlwcdK2\n",
       "6sa5n/KW9KRhfqy4rP/K3Xc4mN8+Hi62AkoyzEKrl9MaZquehBBso/D1vtU9GMSxBvYhdEEo6jyc\n",
       "US4AALMSi9gucc+X+H14KcDCD+U1zErzVfMs8D0GqJTs4sxMj5ekErjGY3TcGyy+vpJcurVvEypq\n",
       "97CQzGf0QBykal3LVCeVnjWOgFXwCHkFGI02LGJRiMlsXsaEbtTJhk3dBo5tvOY5XiqWWyj7i47z\n",
       "Hj0pRZh0TEUxCu0w71RszYZUv5xmAbzkMPDAN7d3chlsfCOKUVdpQur1sIqoXyKwAhgbAlinEJUS\n",
       "c1vJUvHj3n3Jh5nwWGAns3GvfNjDNB8p/2j8KNqOju/rllRkJg0T6agIVeUZayx2UJpwGcvebCkL\n",
       "lPietDHZra0gVZDnk21upOk2sK1droW6lN/24iW92SV8phr8D0LcjJmS206WK+e8bPqbLarrHtzo\n",
       "Kw+cD91LGWkGMOdDprPE1KRdnBqVbxGrgtmohYxMmppZGXRprPcdG9v2tEhsrL4yLo7BOw6vUnRg\n",
       "1uiUxiTsxVZ5E1VFDvoeMl4zUqtVazGZdb4VwLP7wnynSZ65fKk9mnnHAwgIfuQbAkkqPKSmfupZ\n",
       "MQnnU8HfoZKLKCESyJ8fB9QmroE/595x6CkOoPcBoiDA4YjsHi0l8tA/ro7Kt403r4eeNJn6JZV4\n",
       "xav2KIGleRRNk9RHA1LCxBerq0FJ2gU87pgvASnNtM+TJPUVxzmkccAMvkeg99dM6Lv/aBTXfacA\n",
       "vYc5l/gffsq9Lt3MuhYMyEZwBAFlA/L+rw7SDRO0OWEzKZ22v0eE7azYEIaagjBxCgf7+Mu9epWd\n",
       "yojvqF/8bf7HNBgAbgHUYrBexcz6iOm4Cc2J2SbljQFxyinbEKo+2uzHyHRNcS9w3NmzxE/ynf8V\n",
       "w0V/o1lPISdZuFZKQCvjoAX0rXqSI3tqyHdCvOLkHE+2fuUpIOKl+5Rw94o7FkV5DhtqKy9BvQ6e\n",
       "GewqGx6wGcVpi6heJybYm1KOWUtA/5LuETwfP3uCn7U0uTMQwBPEwITgzEGZUm9GZBpBisVj50Mu\n",
       "Vy4QdZ8dM6sRUHCLCGiglGB09P0LLyftx0+FmmOURf8T7vuAkZ4qT3PuozcEkXKbY1aFyyThy3Ot\n",
       "oBKuYpI6ZqyDI3K5q9po1QumQPgNuJBH/vk6burLKb4fo4i8jk+PqGh2hkTqaYJgD2v8p6byEExi\n",
       "RHTnNKVa183ZrjUQAKb3SWTEKBD86GwpY81bW7SOxWley/Ep/ZpVk+mw15NlnvRr0oaNtiYesgA8\n",
       "t8+vqn+yIp3Z/9DCUlz4rVLeI/3UADl/YULp7hsFlJEXPcFIJaYetX3xZw0Yu+yABnVdeld4RHZw\n",
       "UUbckd77cThbRpx+GY9Ry5p4/iGJ8448QAzOqFswac58VyEQWts7ZWvlTbotx/CfLSiY7SQkhqf2\n",
       "eZSUz6Fo7q4brlTDeuR/8DFrPayEbf5BBwNiEl48d6M2/cdGOlKuGkp2JgKa/suaXtg2Mtkr+rTL\n",
       "6zDV8twzjfl5++pXkXzaT0JzuycwGzjIB2MKoHfGsvpU4ihDutnXTOMk6wLsegaukId/dWLWV6VS\n",
       "QZfSL5yfhS+OeAfd8b8mo+eMDMCD03kHoNY6ZdtAE886f/3vDYOhPLfAKmFpTDuwWj+UXYrlQD74\n",
       "0Brf4graeJxkMoQuWrf7P+SLCrPdkrTlxu/YA8qjScZSsUNvsRHvQXf7VNLKGsPg2JW8tWqD7Nhw\n",
       "OAr5QgBuY14GgRhe3etIvC7V5EfkanHYFa7D/Za6SvinvD03tjL4+q401JYFlDE5wnEr7UVr3MH5\n",
       "9OnwdWtKEfw3LI0X2jdguCQrBfpm6fjXu8cidM+mguom49VMhmhL/v2FAalv3SElfGDRHjGjLvA5\n",
       "iOpF7paTDgeMue2HjN9kvWtVJo4HcD7rNLHJ+fM0IFL94OI1tZktgISXsPMCLmVauQ4yG9hcHmXI\n",
       "Nwy4yQvCQxdSPZ3tn9K0vBxE6k6MtXfQQgXIStapvRNI1gdqkyyWmLzMM+PwSxa0rqkHNEI6NDdT\n",
       "tEPs+Ci7rdIG6+4/zXgkbE5P2QObkPMV7Gdk4xdtIbqaURlSwMQ6Kw++vePhoBF4JZKQer3f0Hnv\n",
       "/Zoh1DnYhBxwMuNLQHicY7Us+QUZG4H+PbFsLl56WI+vGirWQ7ND0cdjISVm7MN/0FlMuQ8UeGil\n",
       "8vKTCnB1Ckc5BA1n7Xm+wf9Hb0XTr/py+AIjDS9rpjSUgMxfEKpVgpBoVHIXzqPB1qIj4/u+dZP0\n",
       "W95Gzeyesm0WgPB9797EJDyC29ZdE0f8KLHdF82qgFMELAEdTaIgkHXoQ9DQUqhfzI7wSuBdI7nh\n",
       "PNltSKJwx5jE39a5WxRw6NHkRp93Ke936a0ss+jxUICISyf1mfeXT0nueNlCl1lQTMaHW1RRrA8f\n",
       "4U2jEtdMK603zm++32Dv/afClK8c4x85dNB7CmXcNT3B9JVl0PQyXUsmlVDtt4bbI/3RXlPrlCYs\n",
       "ig23rDSVVwA0Hzr64dzpH6UnbrYibA5J0VpTQEu+NMeLrd1iMuYC9YRYcRpNjjcvN9sF5ARVjTii\n",
       "er8LV9RyDVYiuJdM8eUlkrNIJp9DjbRRfvo9yAQPzajtaQeD3tb9JeG2u4h8w0pxVrPybSy70EKe\n",
       "lFPtLoxf3Rn+XBcW5bnysoA+/cdfQnVb791Z7Ye5jCPDUXyxtZ+usijlMGFllIDeHkbHiwDtDhuE\n",
       "mHEX6JpRlHWdiyM2BMXqCUrELz/35IBauHM9t2aQFAXH3t7vNGi6fGw+beGu6aeqNEqCgQNKqkeC\n",
       "mSy+NTvFeQ1PyUBZ4WRJDGYj6kPqqsYmuCvs+h7m8TEPFcB2kaLfmGDJKYbaLw77UpmXZILtcRBI\n",
       "iDFylRCf50RJdzuTeYtG6YURGFVHUoynUmpGOtp27fAnstkELpD2qGZbb/TKCaccWDU1qQe96ypt\n",
       "Y0JXh/6p2CmCYztJWRvrMnAFSYgCAyy3HuWAy+snc5mD2zqzlWVbc+6CIOHVU+cAI/IaFzaLlerL\n",
       "/Kg6JHj33axpX7zFiTSXtZSRLhJserPDkv0jxgimeWNTt9ojZinLCotdAALcqNQMrqdDl3/Bzah/\n",
       "vGWCOOZRfCaoVUT/RPHM9qVP/eVXOgCAq9/KSa3l3pypOsnj/NX6JIBTbNPZjM2kVKQaWghmvn1+\n",
       "+NR7SMbLDAyI3wTzS/2KCKVRga4Q9AYQis3sfkuAfPtt+385npO01i5tc0i0+PPQdSZE0ol3xhFA\n",
       "GrLvutDkkspuE2hcLY4tCS+57Nx1Fv7opu9fm0YxKlBcVIpRywPlMeWJ9fm+cx+3lq2P6prxFLJk\n",
       "ghgX/64XQWiv9JLWb0XQ12ZfxVukysAP9fEy1wtj7pvbG4IaO9HMTW75Avfv2Lbk4N3hH3IeZkNu\n",
       "+nwLYlkTm1I6lUv/RqaAwLiTMamtuX/Bgmv7PT9wVqUu/ibIQjnEYgB+C2u77iW8JNxm3kU9ZoE/\n",
       "nFuKPdhyle88uU/yei2aC2Cwd5lOd5t+vHVvGoNLIiEWWnddue1QChTjr8W53U1NAPPOxW0JzNIY\n",
       "2kkI27LcFf0qnnERdQyxAm+X3RQhqVf+dPHsuupbaEJlfAB3Dnb7ennJASIpYqorUc4Ehq5FPIrD\n",
       "9XzBcSOc4Gi9ryrnN7fsJAGBwh0ZpDkZPKcmuen+SZm+muSQQ2Bzl36rg2ZYi6MmDMj2B7klgq/8\n",
       "MhaKOvfPBeb8ptAT+4flVoi/zlX/CcrXq2lZa1Gp1NoSc+flmP47/DqEaXk68Bza8JzpeCbL1IJt\n",
       "CCNIoIljOeceP5Fp3tp9hnFp77J/ykQRGNV6HmUqXm0OCRzHQl6NpKJBLtQ/hwjhg2Vtj9gFM2b3\n",
       "fxUuWF1QcmgTycMzpNEe1lIynGZv6S95v+vAWSOwHvCXsmmhSbUP0I/N9ludqMrq5Fm6Z+L/GLV2\n",
       "7YqDGVyJqdxsLVIXoS2lyNS62TBSzhyxXoUjEuYzxszR4YdR1zmM/rJHAGxLhTZRHNCef/t2U/5D\n",
       "hn0ye4KxUi/GYcRZF3q//C1xgU0ie5SAg2D4FGm0mq8k4V4Q8V2sZ1nxutF6QoQp2OyDDgGj1pg0\n",
       "Tstk6zDpzNcnwxX9UC4D2EwMrbxpeH8qchc8Ss1Naxi1rZd2f/GAoyxhXLLYnz2RYhXTLq13Sa6B\n",
       "Xmyc8nj3ZVyoU27H6qaNyIEfNZbUknNdPuGgGJ3KoidgQ8k3QoRt5k610mwW+uazFsjzJPWrwGSt\n",
       "8wPSMhiQNDzpItAji0Zh/EjEoNCogVQNROtoGG3bJ2oWhqg1RCgf/AgbEMGm1KZFnRi0YmFxJWlA\n",
       "Qpve0HsFXxTxOFgOTXGj0E3v2cg3OSVrlrc27F2XpadkqBh0OHqAJA2ymp1+qyTJ9E7MmkLry66p\n",
       "gfN6/JzXJraoEakVcvLoYORIoBwlQWpoX+U4h2PA/OJzXM/17ACjjtZuPhza9W9/HGyfcln7G8oV\n",
       "9WK4u5BlTzghQw9jmVWGFI7DOoH3YrHuLr5sPqwONXRjqSOuSEY/tWxoAIIaNLFoOaGYNiBV549f\n",
       "SUzFSoBNESFjlP7XhHq4AKapvJSkIvRDeAzXj66igd35BeOe5fsw/6/3EsBE4bT84IcN7epeJ9rh\n",
       "zFLRykSLzSnCG1ELKVDlRaK6MAayxTaCMMhLQbKhKdDpzHwE0SO0soxqYOTE4Tuhkeb73Wo2+b8J\n",
       "RxIvaV24FDDhgMXnhywOyV/btJ6cPMV0bxpKuAzEYfmH8odK821k/K/TT8+oys5x3yykvG1OceU1\n",
       "nTUl5LRmPg0mdZQSCLIFCVoTWQrthbKUJYrmTOowSyXYM/uZ9RIBiOmWn4fv6KzkNDVYjDdjm11j\n",
       "Mg+umNgcnTN/tvoiEdeUosm0LwysG/JG9iqlcyQFMcDb3yqsRj4BMMU/o8wRicnStKMYKoL9SAeo\n",
       "1OKaQr5Wqvte5BVajC9PMJcqazcI+ohv+vTmdPLacn7bA+2n0IYQaNK5WNf4sZG5svwTF+VrBUrB\n",
       "QpeOcg0qzuXrojAcx5JHOkqNlP0cJIkA0E30nXYRrReAwevzbhUnw00cp0XySggNjmiaelD1idBr\n",
       "MXZsQqan3WifAn0zr3kS+Y9cJ2kpuV92L+UPXqBGnG7RZZSt2PMeohCA0tt1ZI0FETcJ78gSbbGc\n",
       "GJDcA0YUeaoAROWr9OTbTFXKaekytv3iIUUsQ2Tb8efV7KGxNx+XZXRCbyjhN6Mk84cJOOHyBmbP\n",
       "pySKMlQVT7Qy1Bny5qN4a1O9MNm44bh8JpMylb5d23esq/O2eDDG6D0QSE/S8J5AEd+OI6OoMdTf\n",
       "/DFjOoAEm/YmsHWv3o/Zdy6xweBoQ7sXnYSPDl81Bx+ScHLw1CYVSsVcTYty7mbn6P6zgf/0D/cN\n",
       "dWGREZb78wOd+rofZytXCHxLjMnkVUPbVEhk9JDgikQINUcNKTTWY6xWpjr2aiWaCUNxBLTypw5l\n",
       "JkxXOHsid3XfjbbssnFySckTpbIae0fHJ9f2TSR1seZBNhVt/MYo/t3tek+0F9DPe/i3tgYUoJ8A\n",
       "/0G6mH7EismJmBrbHSe/tDNHHy0n6OR5MCqDS9lUFPtzev8C7sMIX7wr1pJMvaJz9UHCQeF+Fi7s\n",
       "fHFVJEWPVeNP/LHTPL4kLlJy70nFBXVXN4KLkbY/RoCu2ItBhL6cQQq3oT4NV3qynQ3LDMxR+DH8\n",
       "U/4+bqaSGS8EETipQMlC3WKj9Lb7pkQF3m3z9STJFFiPjOkHdsL9G4Z0HVRsuTAuxAwzWnKqDIfm\n",
       "moH1i3iFnc27KrA/iUeOVsrhGof/6dsJa18PKtkZf5gPSl+TxfDfsXCWVwD+cO720bl7yAjF+1KM\n",
       "Lm7aoYuY9lKofatmP06kJlU5z8nc8Wu0ZMSh1acQrWnWvTc+dL4xroRXMKtSKwWcD4/JBatsVuPr\n",
       "A9m8H897GF3JNKPf6xIwcAcjhLFMdUKUP1qbJLzk+5HzwNjo3btVJ1L4oC2PY9NUjTMbZdyEHkYH\n",
       "j0OZsNDOa2kxzrFKtPBixHKyN/lycJaqzNAVvgVygyqtvP8AwvTGbd1Ju+ISLpzsg8bl+++8J8dI\n",
       "pRl9uj4a9cnmM/QyF3/KKOYYG8pgN2fL3x/X4iHBN3Z/MfZVY/u6cdF1atdy/rVVhMdtWVA4ZOOR\n",
       "r59vm+R8ZwTTvDlYXexFall/3xhJRkXsc9PeQSzWT9U5BT0K0Hp4GOHIPk+q8RrWUUxMX9S9PVVB\n",
       "puyTweFJwL+fEcU7iW7jFtZ0w5HIri+3FKs4PnejnLLNbjnrg2dBONkPYQJBDSG4vBV8WAfkm7hi\n",
       "A158XTUoLP8L6tWjY6k0Tbj7TPu2Dk6W6Xk4CzpO1VxVizSFVW2/jFdE1gtlggRundP+912Tg5Ms\n",
       "Ah8+qnVb66830zgcDcnu0wNGG1QW9x0DF7lagDmzZ07hHSnRN0Hf2o5vgnVcRrMhttFRx24T+HT6\n",
       "LFrA9KAlesHw/txndrlLnykS+BEPeqfY0Lo4T1yh3Y71n2p8r1nXc5CLlwY60gP4/j//y4rgJrwB\n",
       "IOYePjfqP8TY4WwBmb/YsxfUdHHjZICnGmP2iFk/si+UOASC+ngHutoQHsn6DjRFYduGvTtlb06K\n",
       "kNBtuOWmo3xPXxmhOidMR/sm68eF4+rpovwLA5b77fP+DqWZi10BFG37tOSC/WocBKAKb3Fw8Ywj\n",
       "zsAmytr5232hhtAP0MuCc+KRv8/hDU+/CNra3fgyd/i/FXWq0t899qzk4w4Jln3Jesrv7ocIGu1e\n",
       "gBkd4+JA9yBF6Eb7sGxHHuO1TpcbP+/5xOjLr65devLsu98qXKEwR1XQ5ZDU/HdoCodb4LC+eSvr\n",
       "AnJ0h1eoHRSJUPDBw+M2bCsN/U8I2K9YKYmx3dtB1wFljd10zIs017Z+GE5cat9uC0Zhn/HezY1K\n",
       "NC3cdRQtCXY5F5Pwg4uosHSRYIHnDvUOz1UeEPPOWpEsipTNPDLN4JzNIJmyIbOQgApMDpimUugK\n",
       "PIYHkI5tqhuZ3qGcvaBiyM423wP9eJ3DJJIiAwphOJzjgLiY0/G5O4kAAeZfcgZ9g3GlX6POtv5N\n",
       "TjMRo4NxOT1bZpYTBHNqJyv/EnEcUjWINuTfpS196C/O/4lW45RbY1nUPk6IsnF+NQfnUbpWjaKl\n",
       "oVJLpRw1xVYtoC5fCDM4ty2EjoE8NFdDGotSpukfKl97KutP7oZ34KP4PxuqD6adQE+ufjEJOAVo\n",
       "XKmUIleByh2xVgy03ZM05ni6g6av2R8pHjdV55v/VvwO94llePT3Hm2kQLtkhdUBaTyBzK5u1V9f\n",
       "/l5yGlOzAaJ0xpllqLAydf5NOYhmmJs97IdIEqpdgugqiYxIHUd4YPqTI53dCSXPGW9GoJTpbPMQ\n",
       "9yy+gIPj1GDE7zu0X7ZL5lbnS7l6/0+d4Au0kg3i5UdaUgc6O8rER0TOzwu+agOVXT8RLPpQ0aeo\n",
       "9rydXoYSvG83NUGejrzGBnH5yC6wytGkHqLs61L+4ufE7ro5kAyttVWX+JFyoE+ysUZ4SLiVNi72\n",
       "hHjVBNiOTySVhenOrnGeX9qLFu+7/16glTbGztkugEup8G2SzkbQvkHAYIjO4p/hj32QCv1y9cn4\n",
       "/lPLP5TfQv3Mw/5NBwf91cxpT6oWgEuxPqLomArLUoGVZ6DwTfMcp/MLR0jCuG/HuTX4JOQqE06e\n",
       "3ZmUDy1ipOE047y6EUpeHDbzD3Lrm2glu1nHhOarcDqFBRAB9tdwAh5q5FHJYsWIezobKNR52k5H\n",
       "t7lt6uVPZ45umXHnSPHidSVGBay+mXk88tneHkyBNB1w5nN63Kla76pGiuSWNGveoZoTLUdNEB3W\n",
       "5Z4RAaoNOToDK7NaPLgm8QrL8uTEd8xuEE8fLssgDuO3vOoWouiD2KABZpDlTX9ELHG4DHRrxdhz\n",
       "nasL0N0Hej++szoKBnRKckol4/FT6Bh3S5ExdNVmOf16P/RaIMqnjb+PCNj4AL0xtXw9eRvvFEGO\n",
       "MwIB5CFM+T+purW9nirCPbOBv+VJGv5yEgzb9rxKo38umYtw748BIFpTHLXHO2K4GkNpAwqJ/pp5\n",
       "t5I3Zdhu3o5MUBHwpocDILXh2rik5TNNlkPiWtDKJUgHyIPnH633qN/GvJpu5QhrhQszq48Sbjbv\n",
       "eFUbcUfmXh2T6ZHZjLBV5o55Bk/cDWi6BRUGjbZLOCVWm9VZzw65xzrB/OqiT03bsAGs8cJja8zZ\n",
       "qPY1AbPwld3RuGj4XThsYI6wgrIXSg2Mb1sxKRF4dnbx6lvzGeQNgqmljsckPIzh9kX7FB4SzSj+\n",
       "dRd48MpRCJEBta3PVMhgO6l5Pj8KnjLBVZF+Tb2uGuOaS60SA53I0BKo9S36tJJGpAAzdlhmXdSZ\n",
       "o2SWh1J8ZSFsAQxoyodz4UmUo8xxnhhdQuBExVFPdYGH7/NB4/ASaBr6ZJFTloiMAUY/oeeLG02r\n",
       "UZsdy83KWGhrJMnLNJwgnyWJ/H/WcZ6aAljdphT25Pn5NyFxAOGhT8Y+ifVSD2dmtR2mB+G1w4B4\n",
       "IAy1S6vWNez7U+zsMfM1TRNtLil+alaVqfp7T/dX8x6GSNuK0s9Ala+YxrwLsW+2IrKssLg+WUdL\n",
       "a9I5k6snu5bXFGqCV5nL6kr16DmHl714MHoYjtQeVkyQibI+bDEo6GXm2B9gmDtaf3AFYbctGiUY\n",
       "N+Dmig6gFhPZXBc5woIon9yvc5cD/0T1R54pfOa/+IyU/cPsxvUigGIZuI8i+gfjdIcCuiw4P4ER\n",
       "wCyqxwKgeG1DTgrbL7Ga9veoC6a39Hoy7tn9PfBI8ttB8ibOJGwzJf6pjAJc41aU2bg90scWckOd\n",
       "GAhjZI1tcSdEygMZQIaOE5X70GO7i5BR9NQ+zmb2R8ddhNfAv9ZeDczY0h0FpG5fO2S3ZNoDgGNG\n",
       "1QPSAjDk/LfJTJcSyOOt/c1pe0RTvDJ9S+XNQaUAtxNNRDdGARB8H7RbSK5yq3H0V59jtv0Qe+oV\n",
       "2/fbfFTYfw9o8X2UNye6MdPwPl+OpqPyo9ZD6wyTyyNiT3oogjuf2FDoMxYSgP81xhvXOviWFGOa\n",
       "Mkexylq0vFteRwbo5xCEm0/Aljp/m8VxAVuHGtDIJkv8kQsYnTgq1HWV7SyWu0cKOjqIKr4z/e79\n",
       "qnCsTu9MNDLWfvDUyCMVhZjWbuxPm0WjxXyxTMrg1OdJKUT4Dkpq4C3orA1+GgK51DpGt85O2LpO\n",
       "BARsg9QCaiRCMFI6wfrB+65fP7V8RnKvY1P9+wZnKWM0vgxKCVPQzxfvfX9rFmdU4FQ7YEGEBU+P\n",
       "kSHZN7dpUJqs8IZ7Zm4L9aErmgXzcpD4hzWl/c8Px/p5CtYNZ43IyPahl/fwATwyTvbML/0A7KS0\n",
       "ot0GDl6x4ZCfborbZ0ztcZ8RyE5oMnI2S/+nEsumORVG2hB7bDrDp+Q6sUwMoxiiA8ZtQ2ZoNyF/\n",
       "eH5+juIPMLbYx/9d9VqB9rVvZsM7Sb3WZ/14hZoFJ3eDtnvHV/Eoz3WmNFGRNWsiH/g4D/WFhG6N\n",
       "4lQKMfziAsvF7K3z8+xNDu5Fwc8rjUH513BBF5Y/qvlOYfwXh6pyWHnybISXlcqoL4o3SdDiD17z\n",
       "jXwhuYJK8YbHPFixdPvOq1kXc1sos8RVkLTucrs5y6BTGbRbK/Uy/+UdxWYc+xr8ff4GJIW8YaEm\n",
       "GZ6ZbcCEkOkmV94XKYTtS/DWwL6G0f/avvyVjmgtLYjT4BTfewVMShrFL/laKUWafoEHxv7MQ3hc\n",
       "jhHhyMWnZf6EfmSrALj0nvTtwCXdJdZDoJr4MwgCVtjkxGq+on9Lb4h+G/ZIrt+ACF17FxmYPiD3\n",
       "TmgSjvZoCYyIOnU4ZPf94CGtJK/kqyrkeejNsX2h6SsocnLcyNGcSECRkprw8MFfvDU1a4/4KgJM\n",
       "P0HqbcODwtLtIrUSSO3kqIQQDhdrKnAKXe5dlMoCuKHy9iIzd2jjkeqmX28Ms92ibk7m+E7rOq9R\n",
       "yBnyaSuQ9rYdNqN0p+kOeUIX3iMPLf3OQp8kVvaFkLbJqIA/+QG/5xQkKZBUUTzMLdHSXLh/m0Ut\n",
       "TUvyWylHXaN3NNOPRmmeNccFLN73/LnwFswDKtXF+ZB8Z/yGXzs9Yfur3wiWeXDgvIJd4uFTJ54L\n",
       "KI2qee9a8WZg46ZTRgW/e8FhSWdYnyW+eAPnOD0u4OeRgvDHQUEnl+1/mDR75uJ2DhYQ4n4nWzxd\n",
       "5O8CM5FdLA96yUp1pdscbaxWC1j/0aSpq0wnsk5+/TX3HmkBwdsvV4iG85KZxssFe64vXzVD4Az2\n",
       "6l4SJMbL2Y4nh5vWTHdRSbAMjrXPFo/9R6jFjh1NWM3Le9h/9in7vyS6QwIIrSlTAEqmO14RFb+/\n",
       "M3/R22qjXZfjlQ0C6pUZ8nsYzfn8VGJtwfNHX+hi+fKNKawid4KZ95+ZhWaVho1RKe7ZitFOYt4V\n",
       "wzc2wmr+7eoDTsEYphr2IcHGmXsFUEvHiljEm3LnJId2wGEFFh0Bj/82MX3Xd8RuVof//HHH1Uq7\n",
       "1KlIs5RDyOyrywQF3cB/J5UoiogzftDYwIfS/bdsatcQyUX0XQFbqSmgLX9u8sdmmYkAmyO/WAIA\n",
       "dpUQh5AEe1XEhgK12o6JZRPCpTrYXZFbOQhlvtMO4nAF1xdXEZIUHrFlbw7p8PfMQGo2FUfWvQ68\n",
       "tw5Jwl3kAbwmG26729e8QNNGYtCDiQWQTDBq+RMy+jNx3ruITd8Z5Nu9u4B/zrbl02IBBSozmXbI\n",
       "AAQTnp2r+SqznLFd9EUuvlUjED33EZbe0x2c4d6c6eC+pxqOqIYOFktzFu+5rmyVZVNLXssvuwY3\n",
       "HSr7PWBlA4fYgZU8BxzA/1rYmpyvozh4m0KrW6YVWgtP5sry0YedlONIA8HT3fQwujM7RBI6H4Bv\n",
       "r4nBrMTe9U9TRDDFV/ROj//GXtM4PQXn06sErK9+enWuQIkntdphv7YgGiO/zDl0IHpug70co77a\n",
       "c56mMix/cQJhd4zZ76lkDGssTm9SCzmEu6//PNsgmoK6gtb0WMedF5bz0KKrmr8Ppjs8lfqnEiYY\n",
       "1st0dxV4TBnftS2zFbkdJX2rMVb2+AhsajSh+nCnetOZGNozGhkc4g57mNOME5NgfeFgE6h0+Jvt\n",
       "fhRVc1j4xbI1O/XmWLTQwHcYbeCcy6vDWyl/Zqqbfe3RoeREvECcWZAlFN4iy2//peRU0Iyz9E3D\n",
       "Sml4us3MrKP+3QEKjy5m1gN93iVG3lnnimLJLM85ldvWw0LSSv0ugkQh2keyyBfwjD7wLR7nYfeY\n",
       "9Etr/UhixI8GBTpfqOnGNrLY2kGYZMgCLD4A5FLGF5iUhmbSls7gFducfXJQI6wrIGBMftmnRPa8\n",
       "/wgHE+honZltwrAL4Ga13j6PBW6ZjbU4bcOJxS5g63sp8OjsBkRpDj76zKF7m/Rd34OPw57QedA8\n",
       "Bx3kX0VMECn34pOgd947i8POsU9KgfOwnVVyMUhzV7xLHczCL6LN5BwUqSgk5Fi4UBsJdYBj09mW\n",
       "Qf7+R2/5GKU2pb0dlqnYdHNCMAJYHZPFfy6eYtT4AtKLYmcG0ND9/oSgVx1yYI6tnORVx+BqWdrx\n",
       "DDauEaVcAzjYRHMpcWE3fKL5aMs/nKeUefd7no5eDS8LsM6TI9HmAIHeDj7h9QMfaZFD/SCOGTHP\n",
       "/Ojhnhj43ZDrAHvtH1XptP7yeGBL6WUKi+6a5p4D5aQdYVhBgABa5rBVstN7Xg5upPDAkcpZXYGk\n",
       "enqK4G4W2WhiV9RnMZkU851OsbXaH5XzWiTOy839dMHwDtlBecFQddSYNa1BPxCcz4trlfP576zx\n",
       "dc3shZiEnfxoo+igfJbunAKME/9WdARDKplctzPJmdSu1MAmC8e8TJrak9oZcn8b/SKuWZiT4jW4\n",
       "AcpdQ+UrgOrz6xkShx65YGbHMfCw4xWZrKPRGNY0Gjda/FV8koDlLW358+01stKFjsGwsyBbLWNf\n",
       "iPLHlEvJ8YHmxFbtK5x6W4Y3HfaOGTJBnEQ1ag8Qof2zR2rY4nRKDfzdt/AQAmXVVR+p7DteY+cC\n",
       "2Zymc+C3kWiVUDDe4zAMc+nBvI5X6Zhhhdt/lRZDHqODGphYWlAgVMdCqfE48AAm1t0xsNmO7ko0\n",
       "zzlZIugvl5iedWiTZn4lxRWdch/zHJoeZ3JeSony6HN51R2wVyUeQuANQYrebAxmmDepzGwuk9A6\n",
       "UYxLJ166GFrFvOko3hUJCNTEgRYOfckP2wD1IERSAMCsrbs1HKYdxU2DmGcI5euIP/kEgU8hI72U\n",
       "frG/Vh3M0gEsf68L9XJ6kUFSZ44TgWVheKcv1As2ldwF4FvhQV08HVfr2uyp8slB5WvrIdEXScuO\n",
       "xln63szv1emd1fnhWSFVAyqZdSY8R3UE22ucU8fiCcLqH//YKpCc3A7ZctocH+YlxwVodTpMph7Z\n",
       "eKV7kftVby1sZZEeZmRV8k87FB5cAtxyEGR+QTNEmG8nEmKNmyOWius2f0JFOHXfT4T8CujJ105F\n",
       "ItROBhp4AcHKWApm7AgMX5SwHLcB3xwRPRIytprLNMcvDjqCegmDKIhlw+IdA9E5+230JvUoE+4z\n",
       "nCQiRSPg2viy4VCAOedb0EHINS8iEZs3Kz58idlY65o3w2sdXaa5eBFqO6H+DFAfV+opMA5cFgM4\n",
       "d3oiHnewXqOJEti/hkN9TJLrMrDm+dN/RyPUvw8mLuCziTftVL1gnEpZ7+oJv1dn1/czBXSqnfp0\n",
       "aKvlcmuGsXk6xUAH05UCZHkUTwjOtiDA2co6dqw0UD7w1tglT/O+0QsP3Gtlg4WSda9/RBpWsC/O\n",
       "v4/N/8H/7BSeaxTWk9hkzw04CJPg3IacLZUTgwvBx887lXEooYdUP6Vc/+KbkarBCtdV3HltFRDL\n",
       "F7vl4NQagpJ8xVUXa/M2chXUYyTvK2H3EKs8H/hucT7x8uQe46bseRqMQIWoyuYmAqomDJ8ChMc7\n",
       "B5Fu4XRHFH/mMnH9YlaDmXRo/zb3mOotQGKLgz1aGApO2KOoFknnvG+b8m5s72/Vwpyn6MDRgMYh\n",
       "L9mdc8YKmZrDSKH8jB6G0ZWmpPiShqVrIj8so1W5hVyqAqXQ+0DNCqGnrBaU3tID/grsyM1283qy\n",
       "CNRF+prt+fiY0fAobEYrs9get9IH8IR/xUL/S3SBOZOcNd59TDfj9TKb+mV/Fm9fg/ldq3SrqKXp\n",
       "b0P9pzscMRSJ4/3AE9x/KLEtiDlJQOpYXsdkFu0bUcae8++zCMqjpOeJwk0xUxfKvQZBg+dyAwfd\n",
       "MQbsXDBJllLSOhCiq1sJBiov+3rpef+smfZ/5qBYoF72clFjqJX+7bzbu5NjfNy0Zv2i4urJl4Pb\n",
       "vEpYD9TzRHR23t9aesCR5XpzsSE5zmcRTMyaBhxRclyZ90GOOs5Xi8j3qPYKcncNh0chgV1NpKvg\n",
       "jtYm0KvUSD8o/v92w0PyLpqwSOtewAH3fl0sqtM87f+s+CO05y3aY7vYVtdztIwCwTq73GB/+pWU\n",
       "mr0a37uUCXl9CN2Vr7/z22lXz49aWYwyV9cZGvJRpAX+5XeeyU77HYaoi9Yjxf4PHC+XYZLZbG9T\n",
       "14RI3B7lCUgrYDyNJcmcWH/ZEhamXvJLYg3Zh40PA7Xolcs+fFLa9J7lb//dz89h2jzSIcl4H+qW\n",
       "IxM3BNqxlAH20dOkgLAJmAnOe0hScppvpxYCb+7znG1rbC16QhVVLD+jB3vZ21MRFeuwh31fakxg\n",
       "igDV873b/2s3LNDkI410mCKSg/4dEn1VfKamZzjznTNAYwd9WAAAKW7tAAADAAAEhAAAIlpBmkU8\n",
       "IZMphBX//talUACY9B+hifng9QAt7cCCSRCMJrbd/8O7cgxqs9H5xT1LGMR93zB6LnZqMniIE3NO\n",
       "VPf3r3J59keIlePj7+6rWkdkI5TCStDc/YNsL+QeCA2i3ocb29Vpp8UfIeoTQ3AsNWuKhQpOylxK\n",
       "+ZNC8EQZg373j/cAYzaL5qqTe6n7q6Gtw6vF89O/+Xw2ZnSbb+eGqEkKz0d3iNypE968DcH75MAO\n",
       "1LT4dewHBa2VUH+I9sx3CJPer7fC9+xgKazZCeEOO+wN6a1IqxgihuwR8Lkqw1SmvhhXfnQqOfmS\n",
       "lzkqK2T3CCIaxullfMCMiD77lfgB+7Lqa/xDs3Nq4K/D6RbChAgi/Ry4PTHsCFodsgbvANXoIlAN\n",
       "zp+yAVmNMaY0jz0hWx6sgXtYUbzOAyuRBkIf/yIFWx1hjBCmsGMkCC9xEmQFxI2Pjcy+IL7IpFn6\n",
       "p/UMjfmRoWKJXBLQG56H+nSBM7itXUgSE/ZOWgD8ijlI0Ziv2D40PPktSyTYM62apTs/gSOTBcwm\n",
       "cPgVq66hFszBD3gDQvrm9vFKT2vxnkon51WS3yb1HgJvcPDAa+BMONTcfyAcz68ZX+ARBZ2/x0Ya\n",
       "cjqizCK87iDYypwjfZURi4pa11XsrKzQEXKu80yA68JG+u1qfi07eK2YuEYo5Cta8OU3I0M5C4ED\n",
       "bjROp0baiSVRZbYn+DD+KBPWLMMJbnZc8OdUNQKU57gz3Q7PaQ7qQOU9JyzLqNSKb+FEUO9dCL9o\n",
       "CsZP2j6utVYQkbzfQHeIrtDbwYVMIxcaeB6LqETGyGhbhPrNdegoiWpwlVwus4InWqJwCnVAXfpe\n",
       "w8NbzL+QgVR3qJJjLIk/6YvFX26Ove6GjqOveqmT8uAwM2BbKJYyPMSudjnqg0m91VUe8Vgq1non\n",
       "s3OQqFNp5+KP3fNCEQOb6tpsWd99levr1bgIY/C9AIFdp5wUcYuVz1gSRr8tk0jLJJH59syNMUfW\n",
       "Zh0G6nY802p5gJlIP6gUMjsq4PTjZz/ePn7opLVonIbcLeQvoNlmLrRwMWsYlqNHFgX4IE/ImFSe\n",
       "DIotbLm5wf5/uGUq9Jhce8KaWjCV5mN7+brfsyQ6TCm0kFWQi5zgUakYUggm1HwUjKTTZtJpwPjy\n",
       "U0oJSpECz/IaqZterZdwDx5tMP6+4nFedXJJ8I/CD32LtYMy1SbUE363Xzzl7BUXqxDNbR6XwRZn\n",
       "N7TMgPvNXBI5uj1ntq2rZU4W4liGltIWhBlLdwg32aUem3C3OTtFEljEabz+LxjTciGm1OVkthJ9\n",
       "mKQfhDRJOP6tWCSB7Cw4FMe8cnQ0NsFiND/ozIMGZKaxMR7e3BCk15fmJr5IP5ux7f4QlZE3wYbZ\n",
       "cqFV7wXjTmSpxpAqzlk1dKWTFjTdImbUg6nUYKuEzaj5brrE1z4fg8f0vMNgPbVqyen69CxTqP7A\n",
       "TO4+zyWyteWTUzQzrAqk3l559hLKy+GMWJMLJgzSuEMQ17eMH12XcgeGZPKytZGt01aq7hAbkbWT\n",
       "TKq1UAKjaxZwC45c0mmfa14BWJV6IqjhUe46jsxv6tkYC0d8kHWbG4qNMu0DcQsX8NPmauWSNYN1\n",
       "/ED00ZSJOQau3VCHMtMnICk5OEmOHpBXKjGRHGYD4Bc2kZgkoiMHhXUaqj5v8NoNMehIT0bMi/NL\n",
       "VlSkCRdYJZb43RywOfVt8f0ECQ9zB8Jw7BQlsp/CDvJiIPMIv2tagMY4WPWE9Iz1P1fByiAlCFTe\n",
       "Rkzl2+iawvfz09Lw93O2WhHouGdbpT15Ws/DqEtgiXiaAXZoSs93LV3m7Lq4aIJ7BsYthJNSgTMY\n",
       "d6MDa28Z1H3XTa6Lm3dXydpfeIpqhkYHPXud030dqaNxqlSgPhHyIzZLhuV/VbGTWwg8wGntWwUq\n",
       "mgwR4f8gzuQOiu4Ico18Pzq+xsOr+1ZSIU0fJvTlcF+nllphgY+sz2rYl5/f2Wxyfd3twMXFo3E3\n",
       "RvJ2GHPSziT0whk6GG2oIZlcB20mS8oAB2Hz0gxLjhp/uLqkDH8fvyk+wtaqhRwi7ceMgpODyNbN\n",
       "DsUK2gJbhw41jU3iRaMhpDlfcBRazQQ06WDupjpADtoeTjiCVhEDLkbr6GTj5JFmmYwsl9XlRP8U\n",
       "BIvh2sJlH+jtinFWwys992Qs+Q806szoTy1hWPuqNVEcDcw8+CyQDjQ/9J1qDg1F+Qyxy+HOPIe1\n",
       "d8g4GPspU8OvXVywwfyEpPddlOxo1hm6eC1AK92dL/fNid41/Mm1f/Fwk642YPMWIcQdP89zGwli\n",
       "G8uMF9KirHbe/WuoUKawmgrKxfY30k2mlyF3z7yoStXLIi9gBUnJ/GiRpjqPyQ+FXk41Mj2P9wqI\n",
       "FNosUn2AX/+eXWp0YceVCXtrFuF79IQv0XrUTyPfF0sXFKkgGWxZ9eRqzkjTxgBamlsQ/ry6PRx/\n",
       "u2un/OK5qD6wOe+L96ZQMRn8QnbvhCDvLKBbIgc8CwBhUW5EN5NuXBe6dageSyJ/YdMFXN7KdE/z\n",
       "slZB9g910sNdqi6hUs/vyuVdMYE+hLX4YvmbzqX2fC6SCklneCjLaKHmKX+1Pvz4+q77Kc0tfqck\n",
       "jp4dBekIAQO3IOC8LCruAKVyEotFsNh7N7JLDAtjzKG/lrZxtByTvUovnrCpBLYH+D7lGthNSM1G\n",
       "zxlcdvCBzrSX70JyUWcAJsJgsFFLiV5D4c7z71IAMOt5W6FuDzRx9mFTjvbqvCEz8SStJaRCHsVN\n",
       "d21GxXYGPSXesPyElgxqSpfuYLe2NFNBb2KZxDbtGU4CdvkVYZYsxP69Uk/EeHAtsNhzhagFiFYW\n",
       "buBQKjSK691z8cGGXKi8RTDZIwklhd5loD83JowtwLKUF4UH7jofLyapL3lW//snP4SGHL3ZM+XV\n",
       "wroCWFHhLxBnXz7m4I2iPp/+6RTBLtSkh67TAf/0YJ0Fmw81/u2T7W05pF1Y6k0+im1Ti2mxgIYQ\n",
       "wWDs0e+DQTqOkpyaPIqKRICtxDbWnDVOHVBFRFskg9xxwaoo1XYy6D6bPZs56mvYocde4ckGUDXJ\n",
       "D12n1p+3HkU3hyIg8hdTQD9g1UJ81xtFkzi7F9sf/X6nof4WfdqAn9cgUqEd4Ze6yRLwpsKQg8nn\n",
       "mkP/33rhWdA1aqla/sCW6YvmadfagS0M224OlIJ8jCu0uYu9ygR1NCwZ7LmPahTj/vN/iEHoYh3u\n",
       "7OW9WY4pFmOeu3GS6xIJtecIHnkj0MpqNEXKR7vk5lJYRYg7S/3JRsFWwwNXDSiOc00QSD7feyA1\n",
       "hfSD/W9UNO4uQG8eoo9jg5vUIWCZ9JdvXLi1Y816MzIUKdGIJvBxcAVQXb3pTyAIhc2ZxOYtZTJf\n",
       "E4rtXKnYzrYSVk7do9s2c1JG7tWYlallIXjEOo8Rdm0fkqCqHj0gfVmYUYwX6XrYNiZQJQi6djEz\n",
       "uIaacIrzT/KnMj7G5vJpqWYJA3tKuR357t2OPocuJoEr3ktlEFSqCnZwri3ijma/CLOkjfKVqKwN\n",
       "UrLc637toHlSeS0Dlr74AZi6beaGxnGrX42LNfq6GdyCVR23xjJ/GoOKDWSRcFpKheZAlRaDKKO4\n",
       "REg91ze3/0N+v9wzlaATvciWIXCdOERcC0Bd8875lkE9ls0hlfftZmLTaId6GehbISySDOV3+Jc9\n",
       "so2LCtUefCE29qsZbjAf6lxdpOJQOjdOWWINxnynq01+pQAid1Ks4zfzAsnAY8o3sa7HLpi6S+6x\n",
       "8RV++Al2di6pYtyjrljwrgm/00yu1NM8hUh+vH5terza2nnaknSx+ejJJAhUH1WzjdYS+UDr4pLj\n",
       "Wxy6LyH2kghW0lcB53BbQdJm2qo3sx+iXnLhKpceU4tu9TJoyC5pn5R0TXYDj5xDvBwYzNw+ZXbg\n",
       "8RblGT3n5g5U8OpKhmgBBLzThadlhlquq2znUCGYV9RuUaFvJHSZqS3EoHDlVcdUp90I6G8+GSHM\n",
       "h0zV0dEydwLsjOQ8h05+F063fxAmSkv4zGHsnkPm/73tmcUEDdaK1Z36/QmFshkg2yU2r42GENY3\n",
       "rKoNwUZFfLKLL/0ABHHaypysdNx9/riw5b2CL3eBZT9LJmEi0Jg0L3QDt6b0HKQHrf1fRgOHpsEk\n",
       "d/d1ZWvOzli+qJ4CsINRvg8jIf7VRLWR2lH0GDoQxz2RELsExAVMzzoYPSr2OzeGcw5XVDyRHI/X\n",
       "IUlDA8fynR2hBfa91XSc2toIKBG1QXEkw3nZM9NnFTdPHWIa4NjzWyVQciP5y9pN9Q383IH+d3Rr\n",
       "oj5pxVxevH9z+Wb6mIahN8jXQGQ/S+fby9lV25360f8dKbMP5c+vwAXgbf6wEWDJDsj1pMLdRIy5\n",
       "kno+W4wfWcF84PdX/VgRSunbknehS/CebwbbcjBtDa7vcnvC20w9Bc8DiFh9Ib7pkc9o6UBcxgY9\n",
       "861NhijL4pzDz3uws6r2BAZ4W7G48KnWLBuREpcqQ5fRoORtdcrI2Dr5Sn/kAOdaRT4JphS+T6Ws\n",
       "svKaM2MvMC0dxQVoMBtP789g8MH2cjxjOqu0YNFgbT+12iSdXSZIivtOW9sLPmwIqWvMM5rmgauL\n",
       "XffZ8u/6tuUS1NZKYNkg7YL+7eky0omwdZEHC+0DiQvz/lrT3oWlQ/OjJxL31jYYsjIQnGuhK8rf\n",
       "YYapPoreXfcEeVzL57wWxbhfYkjZPkjVcy3f5/LvqO+lVUKLLtPaBhI/xvJy1n19YjCzPKHB9k2S\n",
       "6koVIVFBVpMNcpew8+nqddUZaZfHopznHEkAFk41nHXlP/9JWdvlbhbW5D46luNMDrIEF2cidPIy\n",
       "buQpVV4o6qViNWv+QRpdcqM74cPs8J+TB2mKmJTg6YWPsJ+7GosqTRUrg/mcw3SJi7t+xSzIqHWk\n",
       "vfUMjLK2oeTDHZjaPhM7l6Ym6fe7hWRpNQzzoWVpmfIKiM8jxFVNPVe8Cj7MQfimgFiioxhxqN7K\n",
       "824gwNE5Wvb5UXUhIo76XAeT4Qh1LBfPsqXpkcM5KsuHrWRVBHGDDxGgRAXrVuwoXE3TRWoOwSj8\n",
       "xuCU27BzyzsHk3LJjgG58ZrGenOfHgtjcOmJrV18hMmQP9Td+SWk2zns/GOmlyyXJyEUVHDxfIJV\n",
       "DRQ2hZbbblXCGL7pksERGQuA9XQTC99/RSkbdFuyRfRKAXht1JkEqX/I3sddwwva3Yt+SiHsU2XJ\n",
       "9GbuFH0WiuC0x2m4WEZa5M38Ew/dbmQopvzqT1a27BIcUKGcdyfOKEUUnztxSBiwHuk7/mN/BtRq\n",
       "JMXhm3rebDzJprJIn2VTyWwNJbl5+gQTGaJ5jMf56qpIdtYB/Xql4sUxKwTAFRYGMwkRgSzoeUJC\n",
       "Z/Tw80tDgwdvkf+Q/SraPvj3srF7HJQT+JfHXwfOf88diZIXc95KXA198tkq/arcaXWNcHx8iCKE\n",
       "mk7kKnZHkK6O/ZjM7EHpRiP6Pvc4c/M5zznoMLUga+zZ601oE7rlS66kMDmTCyoAvx9Ut5KX8s0t\n",
       "RfqM+s9FJ0pepXtfn/lBz1bUH0ugGES1U3l0ZlZTtFrLNZxgMY/po7I1WkUbMLQI0eEIxhFXBv7q\n",
       "Dqk4kSxQDcQfQOC+5uM+1xqpj7DSRIIsJtR7XqdIc614xQ6phMqLXKoabfBXIfUeR5+GmtZiB6+a\n",
       "lXGvIAtvVXsqnmvGGIkqxqDNUwt4xVzleXDGEKhvPBrP97eeM5pDiPCp/nHZg3dWGfD575MceR+r\n",
       "4c1Ht/N4VKiSBBuRtDGRnVILNePvDb90/8ii0bvEOLReARJ/TOCaYsDikq7JVuFrVzT7PWiFaLuc\n",
       "hyKLgCez84mhtAPPSEkE0ZEaOGFuwJZP+ilijEXGcPViAXA6tq/kvp7EVcYs/HpcKaxlD9LW1L4p\n",
       "hHASSwqSah7bQ2prD1QLmQGJi+QoiXIpcPv6goQ93zZ6NH1vwFw2OnffdbhVCudSduJAIzzNLIWu\n",
       "HFswwFBKvqBwxoq24OXXy3//kHuJhmu23aqiPd10+cc+8m1T1WMfDP4tmHte9x2Meap+2qATC0RE\n",
       "vuI3a3LMcdYeJyKPLTpn6vQ0Mwioe4nwMVgsUGcktmO3MZHpHJ5f0P1GeATshIrydNzyfsR97Y0Q\n",
       "sBzmTuGVct8yfKT5a1eOitR5Vl7Hc7mkS+A1RRGSU34YL0JeyN3LlwC8XOjaGjJ547DuBmDhTWDa\n",
       "H/5eqMAnar0MRo4jFr1pJTiJf+z2wccOVcto4ozz34hkYcf+f/DzzQcFeYpe3vfouhm8qdmoO3lF\n",
       "8NCt8qidRrszmAZPqClxD8tej+r2eJq1NnVwHopY12Zl4lJ3iH0VIGn398r7UWT3RlDk9hi3eWu+\n",
       "3ME7IFR4WkcyXlN0ZWX++co3CZWQlBaNW9vyYeQHEXnD+6yiKV/Ex9zuNsmVKgw83SZ82F7DI3Tj\n",
       "g882sj9GKdQqwSAHKB6Prd/29wXBYua4fzZvOctwluwrseDvLxy8uQZiXLVd8xlYZGralagxGDn5\n",
       "b0VJkdeqJDUUhj39iJknC8iTvSI4UTXr4K4PUALwH9Tng3sqmKcY5pi/uJr3u7omqGLLDNRjD7px\n",
       "4DkY/jS56fWbRrLpINql9IdCzVqRX/t6Fdh0OAGu7232Ffwglqaif2GzkgcH+pdbFojRAD3Wdn0I\n",
       "9w6TdUl1YNgHVWptJ12B5IHBTILW5nmHg6zP2kROWTdl5cVQ/2Kfq3S9aATDcLurvlQKZqR+2Sp/\n",
       "DJX2sa6Ws7oaAPUF3uhM6rAjoNph6H2vtsbiyWK2Ee2rNaop6G6SjfAKB68Ie+wjUvZJVsn0H4P+\n",
       "vu49czXh5maFAJw9A4NkZEsJ4QT7Kh2hBEzstYKPTWAgFcwP3+rvdBOI8YS0WXp6kExSBkiQcQ+1\n",
       "h+WE9vpP0DDyNLk6lNWcKlyckfdD1H8RPwHltbaM+cZhhuDQeULmlfmdMrUdp564I2fJNIN4tzLJ\n",
       "3yrkue5vS09HZ8w0E9VfGPsGLuxCUQnQMVlX1xSyl1kITaVM5HdP8zJMGfpDkU5TzWRSlLNJrNTF\n",
       "5FZ1j5W9YheKv8PLl4f8oGG1fu+6+jweWRbeYTtlTPpRA/sZtQG/++kbGx1Ah86T4A+bU2QTN0UN\n",
       "H7GfqxiIX5StgYc+AEN3AYfAkF6zm0hjUiBUH+GjkQTBRSHD6PhykcX8VkQNpW3oVvzq2NN/GCcf\n",
       "duq93aHBA35m88TUGpIh4OJ5Vv7FFL1D3kASE8zHqky8202a0kEL+MKzOkUlhvO9+6c0Qu1kzSNu\n",
       "d7ilFn3Ve66V2YLoxMmMIon1GMoipRNCS279xnx9WOeANH9FrZ9E9q474UlAKj1ciidhI5bAVJ8u\n",
       "81w6yWjC5JYE6WuTbRaRpQ7Q4UKR4vviTh/fuShnNUyiNhGDHNNg4UeCDnRMMgIl5zYXurXyBvUz\n",
       "wSgxOMnZe0OSyI5y1my7ZC7IzQUE2OtDqPuczWbmWsui3QnIP3y+P8Bw13+0DTdnfx1raD7+LwmA\n",
       "RJhkkNv8ioDsWI548U53cbOQj+o1U71dazRDm+fYSSM3KAOZheuWZQY9phs2H8NCoioPTzmZcVgi\n",
       "so13O7+MGyROWnyLleYajJSsPIAMhTWlqO4AwZ/GretSKW7kYRPSAV7y20CXT/2PsJrPZ84F4a8b\n",
       "e2EMA5iS0G9e3xOS8jrLtV1x0K2dYE9mIaKO0t/RFTLW/QXOWakEPqUaDaLE95wvEb76/HSVOp6H\n",
       "S0M7ULmk66aOwwtaj3juP3TZxhb8hHVVHT4CHqDo4OAJKuoizvpOZtyvYcoaJthy0jiAKfkuE80c\n",
       "l5g/C/4THVTJMk06R0rzz2AaDgD5IMTwtiJObiATNjpsrsUQs4ttrJ+DxIBEkMGhKBWKOlfqLhPA\n",
       "M6YIw49Om4IIHLLx0Lw3ltzRbvsD+2d7suN23OrFy6I6J/kc+lgAicD+f9gn8h5A2WBgJzHhsHKa\n",
       "q5qPf6dUzUokGFuLV8Py11unRjzy4FIvab3oh+ZFGpPzhrsLWvh5ZO2eoi0HTPF2IftR6nLLU6kr\n",
       "YyAMmfw36JMRY1a2AeQMLhC9ju8oqGAhjEfnC7HvKLMqMGt/mBdaZmDJtq322ekxAMD6yrQKw4Xr\n",
       "tUaJCW4aCQ9+Jw4TZml06oiquQJf+Nr4AcbMbgAkabj9fnoGdunWaqKwqrePAeu3XONoQk2F/5Kd\n",
       "sZLd75scnLgliAKnterCP54qttZaJOuAA/g+bXSTUm6HUJphVQvisG8p6YPSyrbB7A/L282Jd1jD\n",
       "Gsh+OcAyDB7Rw/XdCO8hHZk8vu5yEOjGdxW013s+JK7j0NL0Uo/ZdDoVDG+2qx+Pue5amvBWzF30\n",
       "+h1lQgheZJnZkALk/+nRKKzR+D5PdQmukxOPu64MTku9XEpbKlJKQ6Zri5n0QaGuSPjQQSt6iZUR\n",
       "UKMHuMqmfAdePMVr8yd91+slx8m7BLXK5B3/AgcAKyWSf1BnNmhOSohQSs2hZRmHLf/WljHXlVY8\n",
       "uFjIogL8TvnahRKHmpyOnJlKkX/4wC+sZzVGDre8MOvI8zj0aA2BIRJyK3c/JQB1UIXiIsCOSqiD\n",
       "HtxRo0Urv2AAwuJzf7liKjnKn4W57d7x5RWttfFeW9jsVtDTr2Pco79ZD2399SQ7yEXjBVv7jNms\n",
       "+ctSNXmus5YeZDd3Cwit+Z4U8hflO1JAY6IVbKvguTlMGRDcywmMKjvTgJ9HIWnh2CX3CF6AJb8t\n",
       "W8fD9j3lDhBU0l7rWrIjZQXayigB2T06RCUYrMtmmazxzaNOZ5b3G5Be5cmCk0G/BVE7bdvEEn94\n",
       "59PuSn4BLxHh5Qb+4zFcLSaJZqKI3Vi4iGtbexge6LSDuw/nMc1LFAIgNWcwuyikwU+1oeYicJZp\n",
       "/0od+Vb2ppN4FoSAtCgG0DMwF/ff4Ha3T0HYYxiPg4Kb0GufbYgafPcZTvh0x8MHkrruCWAiZ/5U\n",
       "NgvI56QVGvc022qclnG3uTzcicuWObrd3nBZ9Yti2IXbVPYIL3N9u5fr3zSW4ORxr4mqvqWRXHsj\n",
       "E1lFzSQMBfL7Slec8x81mOAyQJO/PqTAX6KIWIWMOH3T9u5490GUp9eAx8Ml4NMaLvzvmBahb6B9\n",
       "Cn5nniAXEncJS3WfDXtQxFplsJbOAet19JFGiJGS8bLP5YZ/lG9YSFCqnIWqgfLZGdsxOLEY2Sxe\n",
       "REV3CpQYPNBU0UwmGPiuXLUIU9JGkcvHav1H23WiBvsVkyUYZPjKR6sx8B1x147fZVAviR7ttuPg\n",
       "SeJMO3jSq5QPTTkx9/FkGFY/yJnEip2Ca5cU4RthLsTbVBbK+gRqASFCUqyZAQUaU3xyRvPUiKD7\n",
       "sYpkFTGUsfzs98BKCLlbV0Rm8R0WXPHIOchZZCghpOeOxYcNV1t1Uso+omg2yMl6JHeBCLi3v2eh\n",
       "dnjYb53Tb5NwPxZmusUmPOxiZOIPrM2Hqu33yev1IDI1bpwlvWfNmw+1KLdihbkFK//JSMde/+QI\n",
       "ZgtIvvzxNHVje43/iYrUXi9iIvorzxNVR0SjTQ0k9ggKlyWLQj+K6C9DAqRCLYhmGMoEk6gTCHgS\n",
       "ST9btCay7/nU5zgm0QmL7Cvrbrsj4nBQW4/tIpfwtwIhFrW3mq3sim8MXyNOaJFv4ErGIuZub/Um\n",
       "jKi1HWnAoEAuklsAotZJoWkL08u2Jc+DgdRJj2zcWm1N8IaTW0MaGaYCnqZtnm9MVX2TU4gmq8gJ\n",
       "9zVqTfzZNum6epp+bAVT4My3NwSnK3Kqupjjmk20h9toVo/8Z4kDZ89d5sN4zXkvK8SrHQGX1Szu\n",
       "OPwODzhTmlxCiQQ0xhWroAxsRJfNAFJL8+MlbkkzFXmAXk5gt6Wo+Lm45vzCo79WUvPiZ/APsLrH\n",
       "ctAIWnQhtXnuCl2YLh2zVbVzpybBTsntABcELDGScHnrJw3gvo8zpTdj1PjpeviHP9UE0i2Gp9NL\n",
       "kbm3ORm90Cb4yCqTNhi4iq2K0Ps9CPx1Oyjak9/B5yZl0N3xGfh43STLoDRthQ/w6I/teqL7v1vo\n",
       "/18NND1uxXqbfcSyWwj4qxM4kNTdegAyo37NQrNm+eH+WS+CuruJDGa7IG92aA26MCXsliZaAMAV\n",
       "TWVCHM0K39lEqFTfA0gGGcU5WAaG25qFFZKDcHgvOwsGoWemnmtwHkOS49f6OccBeSxtCu+/MW/t\n",
       "SIwkqTEI6ssGEhd/MO/WS5yf27qAsXQvQf68W5Cqs/TsXx+1xJ0Axo3Y+TnEjydVnSx7dT1jKI2X\n",
       "hbss09Jts6LHiRx4UHlLdcxSDEDIupvN+va+UrepsaE1em8gYL7H2q6s65eOWmB+clRTY3gD2Ktq\n",
       "Fu7EQ89NLBmA+HuhKWbIE9BjWhE8vFNAolhExdToT9gAjXubF+hD2WY2dJRu/rIn93kVYahlMf0r\n",
       "V61ZwP2e+JWtFgRDPWVP4McOpKMzi0T59yFc921bselkYG7KRfXgv0N+5qziD/Qlxm+l4glcXhem\n",
       "x0c3paNnTHw1+6OZQHRWzcnLxao1+LVomcwi/cGG/RhuX7ggvR5zgdOXTFJmwfXbc/XK4ob5qUfw\n",
       "WY4d4bqbtyQkRpxJHoYLuO2Vurlpf+e322cqJHEjlMPbvUqIGdrRyt9FEdnLtZes/KO0EslPFxhe\n",
       "FyNBJNfVagFDAxC4qRFMXwezgUcLA7SzB/qxHcgxlf60MthFNi9rz5B1Kkn98REMhs27j8vyzCwZ\n",
       "DqVTSfUwtJKB0kZ9MIQQnjzXVs/7CDGgaajIsEBnHpfxZuPs/eZDvzqf6L0GbT39bGXCESF/kyqW\n",
       "Zl0W0mefHqi5DapXnXcQWqZ+3CKY0Qf/nfhTHW2o1pe7RknZKiQF2NmCFNsQftLfVW9vy2xsELoM\n",
       "eWUjVIW28Uvk3qcFiHfszbLYPvu2vZVG10rlL7YdM84BIToT+kT/sVyXElonpOwygX4rrP7YuvQR\n",
       "l40aFoV9anjDJeWm+XJy1t6LuyuWe3/+Wv1ZCfCB9iQA9PTatAnVAinpu67ul/vJMBpTRTxlQ+zd\n",
       "/67I19cCFjNRFL3osRjfbhICZkcgH4mMWTJCIeklhDC+oBVpiWRx9a2OD67KtelkgJmReFupEVkG\n",
       "fN5zBv22HMrWPEfsR5t7SZxu9wk2b/1MamE4G5fiSNqSNC5EtyUax8J5qQMFoB2R7ISneVQWweUV\n",
       "filSDviTeSJzS6Kjxha4hE+OBWgDapx3TFfnEWWpJV8ZwWwy52L3U3lKtGwVEFPc9f/beRuLoHyo\n",
       "rc5CgiUWi3a15/ut4WWjNCCObhhBR2uVtuNKgnwHgaRT0iU1aj18hZVKTsFs+qsYstGir86dQlhO\n",
       "3+KiFwiQx7BUGj23BOuKvTv1lO9Tr9fwGxKyGkfS0NZdJ40TfFE2CMKRQxRwaFEnM6YaEyschVVq\n",
       "pslBWf7DdatMwaxwX7UY2iSICu23ALnICW4iuPWCVfypqjoU9F0JyenLlX9uMffsUv7bBe5lC3ol\n",
       "iL0Cyd+grfpCpTSTPDMlVkAbliZyZna/g1wWcyHqFsa7WE+poU1O8KOBqWJn+fZW7oJEStC8dp/0\n",
       "ROtECBVFG5wls77WGyC14oB+qlsDUHEpj0dyJBAWDQpXoJD3RuuCKciYo7apA285B+y6gf7re/ZE\n",
       "giyIvo2ZpMRKu47ZtUhkCf7yu7bI2Lv6sD/60GBuzi2a8xIKNdAQx2JAbI2l2z/lw7m9uTRMf9Ob\n",
       "+3m16FUwDQn4rhtHiGmqZsZXGTQNIuVXbpjGu4Nvzi26udRyvY2xQyD1h1rcDVZvNntmuOlOmsNs\n",
       "2SzN1ae/7WkL4ICvAAADYEGeY2pTwU8AANJkHt+1msWFpsIAQqo+7Ee0BpmIcKzALcSThdL/LS+b\n",
       "BBDzYeaRn5zAy+tl5VVTAXrYg5uoBxtzPi6AqoOztgXVs1FhbdetxwU8udZbu7QEgBlijfdC4KyZ\n",
       "mN1V5/VVmqKxnCKPja8YatlH+4ztvlBc/9cImAlYW999O8xi43sGOTrany6ry2Us7kyfvYA9p4ok\n",
       "TP8trZb0nlSheQKKe1TNF+mrX+jx8cw8KB2pJog5GmUJTWbRlBdoVVpj57+XwfCxum4rWtE2Z20Z\n",
       "9dhZyQb1BxYal6R4QHiddebiqeT+8ZgkjCByU9QhZoPh+dTLt7IN4i2lOA047HimFL7oFRE7OGxO\n",
       "cWKxepxO3S5a20gRxhksZO3NhfJHL1lGhnemtXz1ta5YdMnUSPHbyScCjfVZXt9iSYGy7cx8n8FD\n",
       "ffSna4t5HuXryMSFkkj/vYVD6KHFvl5l5PJ3YgDRjkr+Pdc9xM1s9QRT3qFS0bKD2VHZhAGyCTrK\n",
       "nsYpHZcJITZipk2DeVVf0PxK7nsH/qGbPv4nQ6IfLCw4/GIcGHucm+nq//jlj+Z/3Am0CmlF3zDe\n",
       "VP3R8jRLcmd6BzNDPNHjbjxuI87rdGvfJd65eBUAxWfDGgjRoCJRfo4EgaIa40c4vHWluJovga02\n",
       "SPBrrIXEcEkU8zZjzyySmGiO1CGvaivWOPGFoxwRhq1X64PagSvhYg3nhmaVt/hWry/TE9kl2u9o\n",
       "j4JrjcMtqGYNhmqjKqggCIbZVt0bD/5Mu5BfOl3KgNOj0Ff28w23ysT0/M1inZInBJGneXnbSHaz\n",
       "12dyz+Dk+xW4Ddu82P/Ygac11zME+h5H+YzxurxcGqiU7pBz1VBJVV1MVw/WWpQgiype6GVFbh/U\n",
       "0gXb6UEv34eaW6Ty6yI7FUsNmvPDqETklWlyk99e8x8aiThH7AQ0iWe5rwVAOGMRcp9U8y+hDeL6\n",
       "HjJNpY8NeINIgMjkw2Iy5YvV7pfntsPpSytz/MIAux141R1ECgvhwrDUebYic4uGQA2i1P1t02rP\n",
       "2YO+wNdRv0Lj5omGM+sMpuZj49L8OA2ifoAM5WQzQXF1jvPKO7/F2NAaebMXvC2KhdWL8nR5UMS6\n",
       "VMO7zOVq+VEXJCf/fHa314pw/NaO3ETukAAAAFoBnoJ0QS8AAkpHpXv15C4ysIUq2Qc5B7an21/X\n",
       "H4IQMaycGGpuCH9aN9HAyYm9EzVRPGthZx8ZT8AA2U+PMCqUcR3ZVFq32m4VYzBG1fV5PmVyGWI4\n",
       "xBpZRqUAAABhAZ6EakEvAAHwcmPZcmqFn0CM/rWTHpuPd2VO3rkSib3Dao4+QOYjC9r8p8QmVXIl\n",
       "LHvZNLc3H1iSggAkZX9wdx8Vr2rbtWWG2OGjU7bKY2iOJy7SQyAwWe80/nRpIhlYvQAAFsBBmolJ\n",
       "qEFomUwIJf/+tSqAA+Z7sytw35471pEADdtzfAVgo9zOaUTeUYmpBAtPFOPd2X1LNK9s9asiZdoj\n",
       "juszRIR9nW19wmd2XrYszERhJUjo9NVzWT0o9cXhMricuSYkeNYATNWkTGXDZqf53K7H/COvbNW8\n",
       "2seMZ/VxpLOZ89o0ocWuxcclrYNmUrz+SU4f58Yj3h2uZ9gUesJ2KJelVNciKaqHk1lpBjyYZN26\n",
       "TcUV9lVfPkAlsepxe7u60t61DgC9rp8avp+Rjh/fC40h6lRFroobyEQoz4ciRmTZmyF1ZltJyXze\n",
       "GOcdHQ7wQtbytYLhdzvwD3C0BgLTYOr0Q40VIJ7pB4kuyqD+GeZEXExAZFJ6bu8JDt97BAhgG2Hj\n",
       "R4CLpm9jvUcqMHqe9viMX6LnD+xGRv3wFIXg7YRyd+iTtx+xcSMU5hsJhl8JiCneU8MIfPSiINMX\n",
       "1yh/8NBE8GmQoluuw5qERws5Kmw8riHQl0kNz711GlyDicP/evhk3ROEcZdSKcXMSHNwua3zwf7J\n",
       "UnKdnuw1oHjLCg28kxt/g6Z+lkpPf0Jp+eEC0iUUZQlZbfykabv6rnniQIVWS64xxQWqwiZI5D7S\n",
       "/SkJGucK/dETwR5Cyz7SABsNAQox7GGmZBl9xK+Y0OdAslxwKAmwoAdW0O/QvOvWzJKNM65L0Q93\n",
       "DKMUzPs6UQCpdzXGu0pnd6/dCiih0ZxzfuqEGr4G8jDq0Pew7/AtP1VhpC2+kd/dtxq+OnS4bLOF\n",
       "hMu0FuMzs216/9wDOOtOTlrnpOi5jMaFGh5s0f3c4kXWyC2lUKLUn1dvD/Jqq7hpJIU+0Ova+Njf\n",
       "DQiLXzggP3MrcxkHQSNy5DQHyZ+B620HEyVoOYBh5Q7z1PNDAhr7gVuZUJANrn+BvIX9WkLT0Fy7\n",
       "jmRh97BMnLn0Hj5WYn60JSge19aA86VIudn3hjPg/kJf9KU+7WQDo7/L5LtpCPoeDWKwEjBtDKHC\n",
       "OPsikN6RWe9OZf24v0IdFCt6rV7C2GWYTrleD16X7I+HCXrrt0YYxwEBJzAF/ODaR2/RFMn+biEY\n",
       "PgKfPVTZuXWN2QLmX8mju6rbFV4IfVhTs45wJI+0CXHkC6AyYqpxmAMtXs2iTkyJWl6gvt5eOO4n\n",
       "xVdx2FEGqqGYYg16f10QPoxwG6o7jlnWj3XtnEIQMJeFwyB+H+V0s2FOxtDYfcES1IrmOY9xtf1J\n",
       "zbjSc5uLmF2S9S9BeR66EMOjMmyYMrfdf/dASibNWEdaYKoY8KrDkTeJQyGKmsnRZEAuQDVVn9ks\n",
       "IDpgf3vaWZF9kp1OiL5fTYhmAS+Dk31Wo4YYn98/SWPYTfBUpLzt/v4K35LxlHtPfI544YFfdZto\n",
       "O3MZje1fCqWb/X6p+rGoC4i3941cz2UGIt2aqRXEzz+ebnrcPfZth0IIQB12IlnooytiIWjGnjRE\n",
       "RSwIyxPqv9ov8S2sP2QOOJhBJ0BQmseGNaomPwMEtlPAyMK9jkzBXCV2TgXixtaLZH31E/Pc38j9\n",
       "tKifPj1cflQ4/z/qd+NcQQ77CDVtKAvSLBkhFa4mKqtubcTUCtQ2NKWIFWwyqh9wBMZrkJWyDcMv\n",
       "rVHanpKUmlrK7MPWTPB71EEXBP7Mn3zahINkkdaPBk4Noo+gcN5lU8ui8E2QytxwhWwTv1NoGEmP\n",
       "KnwEBtGCdosQ1C48v7xw53XcFzAGQ+5eKWkCZk6iEuYfHE0qKki9mRk3CL+oaDcUlGSaOUTzQVxm\n",
       "2ep1RkxlWj+eaJdvoQqkkePAv/HOGE9b+9YK3A3nXSVD4c4fSXkFtje1xC03VIvauHRS/ywovQpv\n",
       "jVIVxJYhxWAtEXiFKkUEScUwZOsXGFJe8Up0iaDfz/+pROgWszkJ/4FuzIH+wiLcyaarQj05uvJ6\n",
       "rRI7lieAWjukFpYqTgi1EjgjYmQ8vKArImEm1Ixp01TJlfK6VSYE25jTuXhbG3f0jXnGVGIIlLJf\n",
       "aqHdyyDo785/Ul9uXszFzyanWqDvu9hh47hxS/ncTx/gYnszJXs+jURMoRxOgzT36k+NkA7d5Q49\n",
       "VcjeSkpnMCtC7jcXYM9wVzHCU8i4pvvDw0C2PXUgxuFvA2WmiNIvjMbFJI+WHcOVGAALAMCD5Xhg\n",
       "FQ5Pc7kBUQ+3GzhZKOkGze4B1UfuDtXg0JPfebooRo9PWiUBnSYxDohvqjJ0U6ii7pcizIlXKXA9\n",
       "3zPtsmCy8TYy+aA36XyvQmqtTxHHA9duxSg/SROvz1oJ7BaTmbIL62KBq+zPEuneSXmKI7NkvloG\n",
       "CM8oNtPSNpc+doSzRnYj7F5Ey50FxY+3e+/ETcY/oUNP3/LDIveYkdD1HswQ46bnXBYM5DsO7YHi\n",
       "cl7FvGqec5oCyIyabnEjl395XOP3cMQVBxRk2NqqrzbLY624BKmNRfA3CCvZW2U+eDSs7zl8+FBW\n",
       "Umv61oc58iX4R3QCo4L27IPQLUmHAQcJbXoo3mo1tCG+bmsFDxuhLfAqhCQ/Nkra3X2MIohAzm/r\n",
       "+gCQKsPaJT/A+0GDUcLehm/5AVyfhSC/jCneqeBiTfKO+Bd8t3M75oe6V5TXGrgSqTv0dU9NLSq/\n",
       "n7P62jUOxxHeL+wFza1qmCqeY0q4HXhI5+Gs5Sk/l/adkSlOkl4NnwicNW+kNdg+t5n5LJv7ADc9\n",
       "Yl6Cbkza/yStnt0J48XI5gVfm/eMmNf2gxsNxYjJ1QOZHLCk06yc7lrlCCnbyfxx4qTN4yI4LLT6\n",
       "6YamgT6ooKHrl0vfe73D+Sgo7yurRwvRxz5KhXikPA3ZgyikKrxXFaiMB2fvKpDixrylMqzuUDUi\n",
       "VYu0eYvf7oDRTTU5I6iQVhTzHBtt5Owr72ufK0AtpTsJjrwdPsxkBjfHr0MURLTvthFBHeBa+oN4\n",
       "hdaYNhGJmYEP7IinvDjmalGwekycXV4qJlt9zI7TwBSVHf/vSEFPmBC/I63/sAok/ACatsULykxb\n",
       "bsf1yEAIs5scDtzqIjwRyi+DugGY/dOxgYdHrNXqsIHYZvWWud98M2k4d7isX0DJdESiyiXPJ+K4\n",
       "j0w3sBhJsTWjMOwvRGnDenB0JKAaTK0fStXu5hLrRAU7aAyNte5vaYlQ7OJrR5fEKTsZJseuoMkT\n",
       "+Cj7315LD0dKrnozIl6rvYmwiSRkee6ZEpcihBBb5Bj5IRtvbtNLyQtPeWW3CzJJEN1J/VKI+gjN\n",
       "6CufUNjDBOF35QLo5yuH150J04pyco4UDyMXlo9qf3ESCDe8/DtgCBYKWb4dTGMAYue9X+H0ZLQ2\n",
       "3T6b9GTI4uTkDJEzDgvqy+VnFRBSoZGZTlYJ7OPvWG9StaTZFbwOkfYhmIoHb2JCsxa/nDXM6Kpz\n",
       "C4I6ONNVkX1KAC4XJu+PscUSDdzQ/9jPtVr0fIsYZO613cc1pp/NyIb5PMiJtmnHJ9E6Ka3WVdmd\n",
       "udf0Cdu2n9E/nVf5y/qYvvkGa0nnCJ54XcS4WBXbLjKUXfRlVzTCbKMcwVTGLDzcvmKzprpEiApW\n",
       "XwclVhscH5h/wZFAO80BkB2H1n72NkZyOIZKxBxy53HHCPSV/c3oKlDF9JBVoIgD4Un6rXEFUxPz\n",
       "sO5luVKsFX25iiVFgirKh8elNlhm+4J7nfPyCgu//R993Vf3JesxXam8QkzTTJgpDBnRQQ3YM4SI\n",
       "H4W4Tv/LlTAWSEDooEfjm5ZK25yAiWc9QKQxuJgomsbURR3dBFwWJUCg1WreOw64wAGoMJaTa6EO\n",
       "wpSNmq4X+Mk9X7Gd42rfLx2/H5IV8xWHtVeUXMx/SSpbGAgLxOQP11JYJ2yNI6U/ZK9wZLktfAjE\n",
       "EyhPVXJs13E0gzD+JUsrAQXf4fzwWWukVZk3YztUNjm9nLLFoeH8pO56e5ytfYpulzdllV9KftXn\n",
       "cJAGOmNZY2t5iYw2cieT4n1pofuMtu+C8t7e+14ZZATfHXPe1vMBqCGspEvieERV4Cx7qL8GM9fP\n",
       "X5QNpNil+P6SU42Cy42g329EsDhck/5gzky9o01WWV2LfYAN3vc+7lZ7bE1IZC20SDyOIXaRrJ2y\n",
       "PZvIwfVSjpcf68jrmrrTd7QRwWuieOKAtjTEPVXIWegH95tbj1uzDff1329PJ6mnO7WcRfvzrm/s\n",
       "6nk8XPZrJmdcI1S34cbf0/bgtpdLkrEQKAp5QCeIkV7My010FbC5Xl2t2WAcyxPMrAE27M61hHWY\n",
       "H/4/qA1XiFWERu40HybgVKVZ1pCWMw/Wfa1U2J7wqexK00JGK7vUP0w+crv6DNd2LPnrqvRR0kW2\n",
       "pAngL0/f8LTR+FW+P0mhd7Da3X/ZzYNm5w3/O4Xd/dCUL5mAgH0l8fRPhZsbEZ0HbMkp6gaF5h6M\n",
       "yNfkSQzMgM9UCXeuHKSG3CKp7HfBkuf85ALo0mP8WWDvUg8cHXmusbGYt5ditLcyhDz+Z00uAy2n\n",
       "g7JiBIfpJmpr0/ca95cSFfFDOo3ov9IpsRVieRU5UipxuO9Nlui0f0NQwbVnLBxGyrbLbAkuev3u\n",
       "4Zw07dQOaeOuv0VT5EN2cHCRQO5YurQhPbRCqgTsFeKfrN8h3R+08GzABz7JMLVkQAhZq4EFPGEv\n",
       "JYmypTxsSfkKLQ0GRwsb8v5F4ry8hu7ygKKzZkHE7nFKShc/ZQ3+dYu/frmtyoRLxs8pHK6HkhOg\n",
       "XICctPdd7EDCss33gWlTLw2PTMGBvxprelJpy7YeIBCUU/nVX6mz5uN6ejub95E2aiI77gEcRaTS\n",
       "HW6cW394LyQUjg5f3MghEr0+7mYMVP9Ul2mRDKVKq8rJKr5A0URjb+r5o7BGAsJZ22qoQhwAXnPx\n",
       "wx3CQ3T/rN9aY8ILbA0z2YblF+Iaav16oUsvm5nLaneLDcKe7UsLjg/Zfs/ledrx/FzmTM0GTiK0\n",
       "Ctoeh28axqmJXCvL55PYnZpkgT+e0K1DVimLrR8Xt7EZecteJXArhN4yM74qp3pp9oOlOON3/IWS\n",
       "6TFtqw6dldGxP9v68FdXQ0hSYf/S9eFE/RWP+l2U7vInK3rxktXlRV3zrnIUbcXZqJ7CnyIb7TM3\n",
       "iN8EkXJ6d4or+38Ff9wBcUsxmanFO9u6PP4LHAp+ZuSu+1AVZseyQkjVzIagZ8jAcD3SGCkylP0N\n",
       "8BRNnj6Q7r7mvSF0llNZChV/pFiXiV2OzxbqAekXjRmnKg6axaQ265lPS80KZ0IIqm6UtAnH7sDt\n",
       "UaVAysqjZxPUc0g1qImcdGFbab1xXl2UuarjhgN8mgYAIGjFegiFwQRjkL4KAo65Ivd3YbvzzHw8\n",
       "F85QyKnUY3SmoBjLl9KA3rdvAbdpNp2lgp/MXqmDcU8nJfAE44XRCnVjco8xTwz1Ho7yDOTMZwhr\n",
       "y5M50ddfrIyDcyOKUS/zogbOx/fe2Dw7IbUDLOo12lcuvCTADXEUju3WIIL90zTzSgeJEWusVL7l\n",
       "LnK95cKFh7i7012UZ0Wz6aEsOtxtv80mW7O7HDrqc5RX58XtT1X/wrbMJHCNaWBtq8YToJPiuAxw\n",
       "eAkKhoNYDXw8fT+rMeOWUUHV6/5q5Y8tD87+PtQAxKvUTTkL0HYPAJgB60uXvs4eEZPkCb7Xv7K4\n",
       "WMtfbTkOzZGpMevEw7RrA7MDq0yZxiL24aYS4uQ7Gz58JHvKBOV20QqRy4Dp8sKamTpiZCrFbous\n",
       "WBYJZboh6nqceYBhPXsrUlk3jDnwBTqqmeGfKjIByuoEbPGutsds844R4/FNnZWQELYTdchRdFpP\n",
       "UAEVmOt95cd3Hl+1LEIgscGRusTVVLL7QIvlYBSPmz9bLcsQD3Yfe/paLzcoXglh05lDCPKQ/gge\n",
       "2DlxhWDTlTzssZEdIq5cqWeE3IwHAu+VsnRn74+lg1590EAeftI9zxCGfAuvAT2ruQ6MiuLqiMkj\n",
       "i/FW9sOBR6sZN7Amhrc4QF//vqyrNQ5MpF8rIGECet9JCN3BvRxrjSnb4DrQHnp3xKWokFsW4sqg\n",
       "F3fQ7yQjBsjciKNXcke15YqJjVEwgXeoFiY5IKXRz6pCOdZV9PCLBKuL80Lg9JW2qXervjJTUNdd\n",
       "p5dr4XIp7T0MU2tSyjTkWWWjkqcHbS2iBE7rRrWw2av7J2NNqUMVUh4AD82Odf3g1FHK5ddcY0fY\n",
       "bZpV6aj+E59cc1j75davWj6IauVB8L4lAPGabaSH29zbJ0Rk9K566JQQVjXiv0hrIx1zbMRTs0HX\n",
       "4ubd7UuRICeJB+3NoBrdNdKhZZejZ/sXjqjRy9c/FJJ+EFa31Ok4QFbl4JUvYFuqXdcP7iWbW6Uq\n",
       "GFqN8KKLD56iN3F0fvS6XYhUcL1GISy/bxReCrDgbY1A3eA4h/u4UCxTbfXp5LVt0cAt14cFe6p9\n",
       "Islmvh4m5+aQMYchax045tqK7nDhL5R1xH0jpF3jSxkVEQWKB2ovKxhW8XFi2LyBjtAkV4ByjeTf\n",
       "nEx4rok++PJT3wRFBe6N/rkoj14tWuzPEFK41lys/KVTlSWC3UvWtGA4QQCMJYY8EBDLMfL1zcJY\n",
       "PV7iHRM4BWIEWrjY4lso6+ZqSzeS4XCH+wdYX4PbgjtzVnOXghhFQr+7U5N55TZIPYNXjxTXn/29\n",
       "w89/V6FOb7pvXMO9I6k5WxtqRcShzkrFRrYek9LVGLZPQzW0hDro5/GjcSBQoE2PpaHXgU1i96z8\n",
       "rkq55uoq6lWYUOjMu1xZPyZ98VCjtXMmLqFyWinXctccIa+AvM3dkkGJOCVkBR+Ilw6mqXT1PMNT\n",
       "If20C7oJGXAZxv2/ixcIzcbNxwdxZucl3YgyJwHRVXb3yMjGeptWABbVKqaFV7AXwLmkuFITp66Q\n",
       "kh2BnqQ1+koyq1bEgfpeuSK0lSUODF5cwBDw4+zaS6gRG4nukeQsodnzSfHmbwjTXMO17t8DrXiR\n",
       "WuXgYYoHgl8iC+JoPR9KwfR1l+/LHvIfrd0v7Z4pP+/JjNMcwvfTvAldsy/Dvm/EUfF1sWnl8df1\n",
       "psCK/1V9rR0JKMh0SzQSPPgIJy0pTM+1qw7N5PmL4qVAq98ytcbHuU6RoQSvTlm0NykBQDF0IJgm\n",
       "tTFYmd0GWtqCECigaYqdDSutx0U2ik/m6w5bozGdRCQ19lxmuXteYTXfqTXiOd2YYWxKltSXo/l5\n",
       "EW4vP8bQq3Vqn8L9eLkbk+AHD85tI3oJC3taqdAdi1MMNrTr2iTEHncOvtHtLzCdnluuAALv+OPJ\n",
       "EbDe1a2FbEnAVKr5IaoaNrzCXoCg7pS20XOLVcQryNOnKD+mQ9Z8tnFoLLKzp7i599xWOD7QtPP3\n",
       "jitKs4MzsNk+odwn+gj+vysCDtlBOYQl6anQ3A5LSfBwBRw1I5ewR8n+MGamtqRmPxcqXujD1TY/\n",
       "fHSSO3D2LGm5qVTx6zMi77vmYSivS7ncktYQC/NfRvya/01rD/lxCdQ7gVCZv7fB586s+EgOwysh\n",
       "C6aW7kWIA2lVPHVvtaPTdGmhiXWsyTsTwMkvQjhayH3LE+PzmYFyAs996DEVSlrprPKF8qfXOkEm\n",
       "mBI/qSh7+kbXhLf7K5DXly2j/LaUKLSqZJmvU8iyT4hGh7WqVeNU4Xk4GCGE7k4x8xElJpZKjxVz\n",
       "SkZdZIsiXnZrZg16FRF01NHOhtyt3IIKafbBBycS6yNZMQE8JEINOEaixN78zygo07fewstyGqIH\n",
       "MrL5nz4xil176+UWzsFvHSOpgdzBjLNdNC8exx6PWeoZLOdyWqbWy3QXy9GKobWs9xei4jnKpZi5\n",
       "EyYzsiahQGaKZCOosKJm5tKT7tmQxyaRGJg6Al1MEsbST0AhQumSk2SPry6GY3kWuzCUYSfs9RWI\n",
       "z0D6f9IXAAAGB0Gep0URLBT/AAC1KCNV1YYTvSkJ56bn/Bq4H6fSwJHtjVOLO4EUxACYPIwk1pek\n",
       "Kui2CeiDmvDqHnYLL+iCBl2hCMkwg9K0uSLVdjAvse1WBb/v1q3sneZYDkYdRWkyXxQqRQXuj6yr\n",
       "dGcoYNhgHXay8HCqto9VIKdcUsVNJM4Qo6fATzAGu70x70YgcCKEsBn5oh/8WY1OZaa1FX3gGigk\n",
       "RDeiCufoalX49CuTG01eROe4229Jro9YTJ846ZDpioH98sHiNVu/9dKlZXRmunC4h5zt3Y9jRGXU\n",
       "AuALU66YEuLj3kH8EiC5Kd5LZ2G7XexozcfDZtNZAnKOP79elpDMDLZDiyqqZ2zHkAGDLctXa537\n",
       "A0HjWd5wZYNT6uZVQHRqL3BMkmszvbq9Vv8+ku5/+RpeVcktl0swe9RQhCbxOckawIIy7hNbTAYI\n",
       "2elzjkLeDUgFnTMMjXhsBOtfWfRx3lEZCEEevWCWRFp8iWjwPSgKpxc0MInxY/wQOUOo3tzK9H6T\n",
       "5LNvjVQsSisJXnFRoOE6dLKoNdB38n8F7XEA0CAenSLJ+Yf1B7/wyh1TKbEyXGxCfDqWn8K3+bo/\n",
       "yHh3+zvVjXzlWmhHZReQqkQWEvoOGgb0KnNq8BpXkDS12uGRvHYpN1Y5c2cfxIt8GoPmVrQkVzLp\n",
       "tofNdAr7QKD+ayMnpM8muQ0l8Zjaj76s4wW1P6DKyKj8EHXfGm2YEkmbNcUa6uTp+phYlpbJ4anu\n",
       "+FF6o6+J3oF2WAwDXaFefqTIRRLVcgKMOX7lQP0oNsGKmwyGnC3lCEv+E+pO/90tZrGZpk4K/2s3\n",
       "dCLBZS3ht6mzZdgEtJZyFWWBJvOLsqWbRjln5yUmu27E+vy+rJra8hgMewzjQ7VpbLXBzXxMTa6F\n",
       "Hk6UXtJ3BfFYLSNQ9+Wu5OinZHks24/uwUNTsxxBBfa9CC+9qUICeYf8hOWxi41v5Psp50DwXyHD\n",
       "XdbAPHzPDGPAXQu9cw1/BPXYQlRkoS8oN7kCoPFgb/yNeMsKoIFkI6XWdJByjCOLqp+yda3va7om\n",
       "BG3aGgP2+Xg7BdBh5Oa5jlVWatwun9BfiJ2EWQZkCThegQpv8sj0m9UjEfFOM7cYNr+m23C1nLSe\n",
       "MQbKKJ9KryyHSzSe3l+TcC311eVTbEv9ex0bFbioAobcnA0AG1Ao0tH6LOCQV1IMCZRAqpfxlq1t\n",
       "81Njtn5+/T5E6nzR78IGJhjnZtc6K3TWSGd1+wTt83qwmZlWurwsZhnXiV81S0mav81x+K+sg1AF\n",
       "ztSloXLdBFq0Tj8aTpt9X2AzhWHnSr2OTcaYhoyKV0zI1ZhLOvpfMAr2Mz975zFX2pZN4EX76ptU\n",
       "FGTazoCD1QyyNCamR3dxxcZW+26AotKPSrLNjG+jgyuFgV//lC+Adpn8ahCyvV7nUGCkoxj8c36+\n",
       "nij4Wi2lYEzYlyk9jPOBPV6+iN6zj9VAnGgvPm7+GABO19KH4tUmVENxcu6Df2mklhmI/QV3+fNG\n",
       "t1mLU1JbQ1VdYrum8AbDZ3kz+8Qo5RoBfGzgkAhrdwsAf+vi2Zw1Rn0Dcfa+Pw5ZXei3Vod/UDTc\n",
       "hkd8lZbKvLWTFQtNtHEMW1zSPWEX0IdcrYr5PYy5ICnTBIhLTap70cZeaHbk+CMyVzsVF6sLQTrE\n",
       "CqfkjIcFS7K0XgBxB8HpjxAdvIhnzYwIdhVNXuiC32WCYWNVJk6a8eRbIHOTHUW2tt63+H7sSJ0f\n",
       "GD/oufmT2QYkOHfOsi0AIMVPczPjx+yd2LF+xaFGWTkqYU1VroUuC/9SZrb5PqdrcnLQ/onQrjGn\n",
       "iy7f7A/T+JKcZvJQnpMUD6hHCpOc7NvxzWcFiGA9aL+BOxIrhf8qVABr14MO1ubKnYdwzYALDvMf\n",
       "gmOSg4J24d8PxIRxVJbKX+4Inph+fWlREMAR9lMjQ1w9EPUBnfL7nyQKyQsIZA7HXJg270alljbv\n",
       "t7sXmh6rbgfc9BYTr3ySL+WcAZuZ6pPsLhSZwrsYeC2RRD+77GSis0m4C3jEgfZMITJCyo7IYMx7\n",
       "ZDVBkBxGrMRJio6AXUEAAABwAZ7GdEEvAAHwUqKbIRtZqUw1JgmxQTtwojtzuM7rhWCQcEzlLt1T\n",
       "ownjWmSOEItkCyeICyk7wqUEYLJZwA954B/+GKv7VBwTV+SS5y68GYuu0Wb5IQ4FscZvwElgy/Z+\n",
       "8JlksKpFl/w3FQpfOQhw+AAAAHoBnshqQS8AALDv+CiQPy2qQAIMiyTbHzkow5P3mqGoECvZoWD5\n",
       "WsP1Hvv1BAC0BuD9PQP3Tni4TizvCe8hJgB4fdM+Bbz5E+LiaG0ekFR0Vj23siktjE3JkgCWgbA+\n",
       "e2/EyjQhJQ+wSi8/dVimVBWWgLIprOSxp5RmoAAAA55tb292AAAAbG12aGQAAAAAAAAAAAAAAAAA\n",
       "AAPoAAATiAABAAABAAAAAAAAAAAAAAAAAQAAAAAAAAAAAAAAAAAAAAEAAAAAAAAAAAAAAAAAAEAA\n",
       "AAAAAAAAAAAAAAAAAAAAAAAAAAAAAAAAAAAAAAACAAACyHRyYWsAAABcdGtoZAAAAAMAAAAAAAAA\n",
       "AAAAAAEAAAAAAAATiAAAAAAAAAAAAAAAAAAAAAAAAQAAAAAAAAAAAAAAAAAAAAEAAAAAAAAAAAAA\n",
       "AAAAAEAAAAADYAAAAbAAAAAAACRlZHRzAAAAHGVsc3QAAAAAAAAAAQAAE4gAAEAAAAEAAAAAAkBt\n",
       "ZGlhAAAAIG1kaGQAAAAAAAAAAAAAAAAAAEAAAAFAAFXEAAAAAAAtaGRscgAAAAAAAAAAdmlkZQAA\n",
       "AAAAAAAAAAAAAFZpZGVvSGFuZGxlcgAAAAHrbWluZgAAABR2bWhkAAAAAQAAAAAAAAAAAAAAJGRp\n",
       "bmYAAAAcZHJlZgAAAAAAAAABAAAADHVybCAAAAABAAABq3N0YmwAAACzc3RzZAAAAAAAAAABAAAA\n",
       "o2F2YzEAAAAAAAAAAQAAAAAAAAAAAAAAAAAAAAADYAGwAEgAAABIAAAAAAAAAAEAAAAAAAAAAAAA\n",
       "AAAAAAAAAAAAAAAAAAAAAAAAAAAAAAAY//8AAAAxYXZjQwFkABb/4QAYZ2QAFqzZQNg3oQAAAwAB\n",
       "AAADAAQPFi2WAQAGaOvjyyLAAAAAHHV1aWRraEDyXyRPxbo5pRvPAyPzAAAAAAAAABhzdHRzAAAA\n",
       "AAAAAAEAAAAKAAAgAAAAABRzdHNzAAAAAAAAAAEAAAABAAAAWGN0dHMAAAAAAAAACQAAAAIAAEAA\n",
       "AAAAAQAAoAAAAAABAABAAAAAAAEAAAAAAAAAAQAAIAAAAAABAACgAAAAAAEAAEAAAAAAAQAAAAAA\n",
       "AAABAAAgAAAAABxzdHNjAAAAAAAAAAEAAAABAAAACgAAAAEAAAA8c3RzegAAAAAAAAAAAAAACgAA\n",
       "GMkAADwRAAAiXgAAA2QAAABeAAAAZQAAFsQAAAYLAAAAdAAAAH4AAAAUc3RjbwAAAAAAAAABAAAA\n",
       "LAAAAGJ1ZHRhAAAAWm1ldGEAAAAAAAAAIWhkbHIAAAAAAAAAAG1kaXJhcHBsAAAAAAAAAAAAAAAA\n",
       "LWlsc3QAAAAlqXRvbwAAAB1kYXRhAAAAAQAAAABMYXZmNTcuODMuMTAw\n",
       "\">\n",
       "  Your browser does not support the video tag.\n",
       "</video>"
      ],
      "text/plain": [
       "<IPython.core.display.HTML object>"
      ]
     },
     "execution_count": 17,
     "metadata": {},
     "output_type": "execute_result"
    },
    {
     "data": {
      "image/png": "[encoded data removed]",
      "text/plain": [
       "<Figure size 864x432 with 1 Axes>"
      ]
     },
     "metadata": {},
     "output_type": "display_data"
    }
   ],
   "source": [
    "anim = plot()\n",
    "HTML(anim.to_html5_video())"
   ]
  },
  {
   "cell_type": "markdown",
   "metadata": {
    "slideshow": {
     "slide_type": "subslide"
    }
   },
   "source": [
    "### Polinomio de Taylor interactivo"
   ]
  },
  {
   "cell_type": "code",
   "execution_count": 18,
   "metadata": {
    "ExecuteTime": {
     "end_time": "2018-11-28T23:01:31.001460Z",
     "start_time": "2018-11-28T23:01:30.995460Z"
    },
    "slideshow": {
     "slide_type": "skip"
    }
   },
   "outputs": [],
   "source": [
    "x = sy.Symbol('x')\n",
    "f = sin(x)\n",
    "\n",
    "def f4(order):\n",
    "    mpl.rcParams['figure.figsize'] = (16.0, 6.0)\n",
    "    x_lims = [-10, 10]\n",
    "    x1 = np.linspace(x_lims[0],x_lims[1],800)\n",
    "    plt.plot(x1, np.sin(x1), label='sin of x')\n",
    "    y1 = []\n",
    "    func = taylor(f,0,order)\n",
    "    for k in x1:\n",
    "        y1.append(func.subs(x,k))\n",
    "    plt.plot(x1,y1,label='order '+str(order))\n",
    "    plt.xlim(x_lims)\n",
    "    plt.ylim([-5,5])\n",
    "    plt.legend()\n",
    "    plt.grid(True)\n",
    "    plt.title('Taylor series approximation')\n",
    "    plt.show()"
   ]
  },
  {
   "cell_type": "code",
   "execution_count": 19,
   "metadata": {
    "ExecuteTime": {
     "end_time": "2018-11-28T23:01:31.585453Z",
     "start_time": "2018-11-28T23:01:31.005460Z"
    },
    "slideshow": {
     "slide_type": "fragment"
    }
   },
   "outputs": [
    {
     "data": {
      "application/vnd.jupyter.widget-view+json": {
       "model_id": "5eeae34d32364211b1f1e32773523923",
       "version_major": 2,
       "version_minor": 0
      },
      "text/plain": [
       "interactive(children=(IntSlider(value=1, description='order', layout=Layout(width='99%'), max=15, min=1, step=…"
      ]
     },
     "metadata": {},
     "output_type": "display_data"
    }
   ],
   "source": [
    "interact(f4, order=IntSlider(min=1, max=15, step=2, value=1, layout=Layout(width='99%')),);"
   ]
  },
  {
   "cell_type": "markdown",
   "metadata": {
    "slideshow": {
     "slide_type": "subslide"
    }
   },
   "source": [
    "### Cónicas"
   ]
  },
  {
   "cell_type": "code",
   "execution_count": 20,
   "metadata": {
    "ExecuteTime": {
     "end_time": "2018-11-28T23:01:31.595452Z",
     "start_time": "2018-11-28T23:01:31.588452Z"
    },
    "scrolled": false,
    "slideshow": {
     "slide_type": "skip"
    }
   },
   "outputs": [],
   "source": [
    "import sympy as sy\n",
    "from sympy import plot_implicit, Eq\n",
    "x = sy.Symbol('x')\n",
    "y = sy.Symbol('y')\n",
    "\n",
    "def plot_conic(a, b, h, k):\n",
    "    if a == 0 or b == 0:\n",
    "        return []\n",
    "    mpl.rcParams['figure.figsize'] = (10.0, 10.0)\n",
    "    plot_implicit(Eq((x + h)**2 / a + (y + k)**2 / b, 1), (x, -np.pi, np.pi), (y, -np.pi, np.pi), title=\"Ecuación: $\\\\frac{(x+h)^2}{a} + \\\\frac{(y+k)^2}{b} = 1$\")"
   ]
  },
  {
   "cell_type": "code",
   "execution_count": 21,
   "metadata": {
    "ExecuteTime": {
     "end_time": "2018-11-28T23:01:32.760438Z",
     "start_time": "2018-11-28T23:01:31.599452Z"
    },
    "slideshow": {
     "slide_type": "fragment"
    }
   },
   "outputs": [
    {
     "data": {
      "application/vnd.jupyter.widget-view+json": {
       "model_id": "cbd25b6c60414acdb4a4c7ed638d80c5",
       "version_major": 2,
       "version_minor": 0
      },
      "text/plain": [
       "interactive(children=(FloatSlider(value=2.0, description='a', layout=Layout(width='99%'), max=5.0, min=-5.0, s…"
      ]
     },
     "metadata": {},
     "output_type": "display_data"
    }
   ],
   "source": [
    "interact(plot_conic, a=FloatSlider(min=-5, max=5, step=1, value=2, layout=Layout(width='99%')), \n",
    "                     b=FloatSlider(min=-5, max=5, step=1, value=2, layout=Layout(width='99%')),\n",
    "                     h=FloatSlider(min=-5, max=5, step=1, value=0, layout=Layout(width='99%')), \n",
    "                     k=FloatSlider(min=-5, max=5, step=1, value=0, layout=Layout(width='99%')));"
   ]
  },
  {
   "cell_type": "markdown",
   "metadata": {
    "slideshow": {
     "slide_type": "subslide"
    }
   },
   "source": [
    "### Ventajas"
   ]
  },
  {
   "cell_type": "markdown",
   "metadata": {
    "slideshow": {
     "slide_type": "fragment"
    }
   },
   "source": [
    "- Visualización Integrada\n",
    "- Visualización de los datos\n",
    "- Problemas de mayor dificultad\n",
    "- Material interactivo\n",
    "- Habilidades de computación\n",
    "- Acompañamiento\n",
    "- Filosofía Open Source y Open Science\n",
    "- Colaboración\n",
    "- Instalación sencilla\n",
    "- Versatilidad"
   ]
  },
  {
   "cell_type": "markdown",
   "metadata": {
    "slideshow": {
     "slide_type": "subslide"
    }
   },
   "source": [
    "### Desventajas"
   ]
  },
  {
   "cell_type": "markdown",
   "metadata": {
    "slideshow": {
     "slide_type": "fragment"
    }
   },
   "source": [
    "- Carga Cognitiva\n",
    "- Testing\n",
    "- Orden de Ejecución\n",
    "- Variables globales\n",
    "- Borrado accidental\n",
    "- Errores intimidantes"
   ]
  },
  {
   "cell_type": "markdown",
   "metadata": {
    "slideshow": {
     "slide_type": "slide"
    }
   },
   "source": [
    "## ¿Para quién? - Docentes objetivos"
   ]
  },
  {
   "cell_type": "markdown",
   "metadata": {
    "slideshow": {
     "slide_type": "fragment"
    }
   },
   "source": [
    "- Docentes de ciencias exactas\n",
    "- Docentes de materias del ciclo básico\n",
    "- Docentes que quieran implementar la tecnología en clase"
   ]
  },
  {
   "cell_type": "markdown",
   "metadata": {
    "slideshow": {
     "slide_type": "subslide"
    }
   },
   "source": [
    "### Desafíos"
   ]
  },
  {
   "cell_type": "markdown",
   "metadata": {
    "slideshow": {
     "slide_type": "fragment"
    }
   },
   "source": [
    "- Esfuerzo inicial para el aprendizaje\n",
    "- Migración del material existente\n",
    "- Resistencia a la tecnología"
   ]
  },
  {
   "cell_type": "markdown",
   "metadata": {
    "slideshow": {
     "slide_type": "slide"
    }
   },
   "source": [
    "## ¿Junto a qué? - Tecnologías complementarias"
   ]
  },
  {
   "cell_type": "markdown",
   "metadata": {
    "slideshow": {
     "slide_type": "subslide"
    }
   },
   "source": [
    "### Tradicionales"
   ]
  },
  {
   "cell_type": "markdown",
   "metadata": {
    "slideshow": {
     "slide_type": "fragment"
    }
   },
   "source": [
    "<center><img src=\"images/tradicionales.png\" width=50% height=50%></center>"
   ]
  },
  {
   "cell_type": "markdown",
   "metadata": {
    "slideshow": {
     "slide_type": "subslide"
    }
   },
   "source": [
    "### Basadas en Video"
   ]
  },
  {
   "cell_type": "markdown",
   "metadata": {
    "slideshow": {
     "slide_type": "fragment"
    }
   },
   "source": [
    "<center><img src=\"images/yt.png\" width=50% height=50%></center>"
   ]
  },
  {
   "cell_type": "markdown",
   "metadata": {
    "slideshow": {
     "slide_type": "subslide"
    }
   },
   "source": [
    "<center>\n",
    "    <span>\n",
    "        <img src=\"images/example1.gif\" style=\"display: inline-block\" width=38%>\n",
    "        <img src=\"images/example2.gif\" style=\"display: inline-block\" width=38%>\n",
    "        <img src=\"images/example3.gif\" style=\"display: inline-block\" width=38%>\n",
    "        <img src=\"images/example4.gif\" style=\"display: inline-block\" width=38%>\n",
    "    </span>\n",
    "</center>"
   ]
  },
  {
   "cell_type": "markdown",
   "metadata": {
    "slideshow": {
     "slide_type": "slide"
    }
   },
   "source": [
    "## ¿Antes de qué? - Próximos Pasos"
   ]
  },
  {
   "cell_type": "markdown",
   "metadata": {
    "slideshow": {
     "slide_type": "fragment"
    }
   },
   "source": [
    "- Realizar Pruebas Piloto\n",
    "- Desarrollar metodologías para medir resultados\n",
    "- Generar documentación"
   ]
  },
  {
   "cell_type": "markdown",
   "metadata": {
    "slideshow": {
     "slide_type": "slide"
    }
   },
   "source": [
    "<center>\n",
    "\n",
    "<h1>Muchas gracias</h1>\n",
    "\n",
    "<h3>Ezequiel Leonardo Castaño</h3>\n",
    "\n",
    "<h3>Blog Personal: elc.github.io</h3>\n",
    "\n",
    "</center>"
   ]
  }
 ],
 "metadata": {
  "celltoolbar": "Slideshow",
  "kernelspec": {
   "display_name": "Python 3",
   "language": "python",
   "name": "python3"
  },
  "language_info": {
   "codemirror_mode": {
    "name": "ipython",
    "version": 3
   },
   "file_extension": ".py",
   "mimetype": "text/x-python",
   "name": "python",
   "nbconvert_exporter": "python",
   "pygments_lexer": "ipython3",
   "version": "3.6.5"
  },
  "livereveal": {
   "autolaunch": true,
   "footer": "<img src='images/footer.jpg'>",
   "header": "<img src='images/header.jpg' height=300px>"
  }
 },
 "nbformat": 4,
 "nbformat_minor": 2
}
